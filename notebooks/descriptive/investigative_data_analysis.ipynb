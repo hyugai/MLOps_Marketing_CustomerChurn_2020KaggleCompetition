{
 "cells": [
  {
   "cell_type": "code",
   "execution_count": null,
   "metadata": {},
   "outputs": [],
   "source": [
    "def plot_hist(ax, name: str) -> None:\n",
    "    g = sns.histplot(\n",
    "        data=df_base, \n",
    "        x=name, \n",
    "        hue='churn', \n",
    "        multiple='stack',\n",
    "        kde=True,\n",
    "        ax=ax\n",
    "    )\n",
    "    g.axes.lines[0].set_color('r'); g.axes.lines[1].set_color('r')\n",
    "    g.set_ylabel(None)"
   ]
  },
  {
   "cell_type": "code",
   "execution_count": null,
   "metadata": {},
   "outputs": [],
   "source": [
    "def plot_boxen(ax, name: str) -> None:\n",
    "    g = sns.boxenplot(\n",
    "        data=df_base, \n",
    "        x=name, \n",
    "        hue='churn',\n",
    "        ax=ax\n",
    "    )"
   ]
  },
  {
   "cell_type": "code",
   "execution_count": null,
   "metadata": {},
   "outputs": [],
   "source": [
    "def plot_qq_target(ax, name: str) -> None:\n",
    "    churn = ['no', 'yes']\n",
    "\n",
    "    for i in range(2):\n",
    "        mask = df_base['churn'] == churn[i]\n",
    "        data = df_base[mask]\n",
    "        pp = sm.ProbPlot(\n",
    "            data=data[name], \n",
    "            fit=True\n",
    "        )\n",
    "        g = pp.qqplot(\n",
    "            marker='o', markerfacecolor=sns.color_palette()[i], markeredgecolor='none',\n",
    "            alpha=0.5, \n",
    "            ax=ax\n",
    "        )\n",
    "        sm.qqline(\n",
    "            ax=ax, \n",
    "            line='45',\n",
    "            fmt='r'\n",
    "        )"
   ]
  }
 ],
 "metadata": {
  "language_info": {
   "name": "python"
  }
 },
 "nbformat": 4,
 "nbformat_minor": 2
}
