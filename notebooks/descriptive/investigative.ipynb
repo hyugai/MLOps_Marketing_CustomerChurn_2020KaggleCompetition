{
 "cells": [
  {
   "cell_type": "markdown",
   "metadata": {},
   "source": [
    "# Preparation"
   ]
  },
  {
   "cell_type": "markdown",
   "metadata": {},
   "source": [
    "<b>Load Libraries</b>"
   ]
  },
  {
   "cell_type": "code",
   "execution_count": 5,
   "metadata": {},
   "outputs": [],
   "source": [
    "# data structures\n",
    "import numpy as np\n",
    "import pandas as pd\n",
    "\n",
    "# visualizations\n",
    "import matplotlib.pyplot as plt\n",
    "import seaborn as sns\n",
    "import statsmodels.api as sm\n",
    "## settings\n",
    "plt.rcParams['figure.figsize'] = (10, 6)\n",
    "sns.set_theme('notebook')"
   ]
  },
  {
   "cell_type": "markdown",
   "metadata": {},
   "source": [
    "<b>Load Dataset</b>"
   ]
  },
  {
   "cell_type": "code",
   "execution_count": 6,
   "metadata": {},
   "outputs": [],
   "source": [
    "# dataset\n",
    "df_base = pd.read_csv('../../dataset/cleaned/train.csv')"
   ]
  },
  {
   "cell_type": "markdown",
   "metadata": {},
   "source": [
    "<b>Functions</b>"
   ]
  },
  {
   "cell_type": "code",
   "execution_count": 7,
   "metadata": {},
   "outputs": [],
   "source": [
    "# graph: histogram\n",
    "def plot_hist(ax, name: str) -> None:\n",
    "    g = sns.histplot(\n",
    "        data=df_base, \n",
    "        x=name, \n",
    "        hue='churn', \n",
    "        multiple='stack',\n",
    "        kde=True,\n",
    "        ax=ax\n",
    "    )\n",
    "    g.axes.lines[0].set_color('r'); g.axes.lines[1].set_color('r')\n",
    "    g.set_ylabel(None)"
   ]
  },
  {
   "cell_type": "code",
   "execution_count": 8,
   "metadata": {},
   "outputs": [],
   "source": [
    "# graph: boxen\n",
    "def plot_boxen(ax, name: str) -> None:\n",
    "    g = sns.boxenplot(\n",
    "        data=df_base, \n",
    "        x=name, \n",
    "        hue='churn',\n",
    "        ax=ax\n",
    "    )"
   ]
  },
  {
   "cell_type": "code",
   "execution_count": 9,
   "metadata": {},
   "outputs": [],
   "source": [
    "# graph: qq\n",
    "def plot_qq(ax, name: str) -> None:\n",
    "    churn = ['no', 'yes']\n",
    "\n",
    "    for i in range(2):\n",
    "        mask = df_base['churn'] == churn[i]\n",
    "        data = df_base[mask]\n",
    "        pp = sm.ProbPlot(\n",
    "            data=data[name], \n",
    "            fit=True\n",
    "        )\n",
    "        g = pp.qqplot(\n",
    "            marker='o', markerfacecolor=sns.color_palette()[i], markeredgecolor='none',\n",
    "            alpha=0.5, \n",
    "            ax=ax\n",
    "        )\n",
    "        sm.qqline(\n",
    "            ax=g, \n",
    "            line='45',\n",
    "            fmt='r'\n",
    "        )"
   ]
  }
 ],
 "metadata": {
  "kernelspec": {
   "display_name": "mlops_lab",
   "language": "python",
   "name": "python3"
  },
  "language_info": {
   "codemirror_mode": {
    "name": "ipython",
    "version": 3
   },
   "file_extension": ".py",
   "mimetype": "text/x-python",
   "name": "python",
   "nbconvert_exporter": "python",
   "pygments_lexer": "ipython3",
   "version": "3.11.9"
  }
 },
 "nbformat": 4,
 "nbformat_minor": 2
}
