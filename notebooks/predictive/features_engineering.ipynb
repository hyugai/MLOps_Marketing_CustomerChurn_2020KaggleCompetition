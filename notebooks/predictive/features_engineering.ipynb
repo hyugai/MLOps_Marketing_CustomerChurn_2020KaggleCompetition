{
 "cells": [
  {
   "cell_type": "markdown",
   "metadata": {},
   "source": [
    "# Preparation"
   ]
  },
  {
   "cell_type": "markdown",
   "metadata": {},
   "source": [
    "<b>Load Libraries</b>"
   ]
  },
  {
   "cell_type": "code",
   "execution_count": 2,
   "metadata": {},
   "outputs": [],
   "source": [
    "# data structures\n",
    "import numpy as np\n",
    "import pandas as pd\n",
    "\n",
    "# visualization\n",
    "import matplotlib.pyplot as plt\n",
    "import seaborn as sns\n",
    "## settings\n",
    "plt.rcParams['figure.figsize'] = (10, 6)\n",
    "sns.set_theme('notebook')\n",
    "\n",
    "# models selection\n",
    "from sklearn.model_selection import RepeatedStratifiedKFold, cross_val_score\n",
    "\n",
    "# metrics\n",
    "from sklearn.metrics import fbeta_score, make_scorer, classification_report\n",
    "\n",
    "# pipeline\n",
    "from imblearn.pipeline import Pipeline\n",
    "\n",
    "# compose\n",
    "from sklearn.compose import ColumnTransformer\n",
    "\n",
    "# preprocessings\n",
    "from sklearn.preprocessing import StandardScaler, PowerTransformer, QuantileTransformer\n",
    "from sklearn.preprocessing import OneHotEncoder, LabelEncoder\n",
    "\n",
    "# features selection\n",
    "from mlxtend.feature_selection import SequentialFeatureSelector\n",
    "\n",
    "# resamplings\n",
    "from imblearn.over_sampling import RandomOverSampler, SMOTE\n",
    "from imblearn.combine import SMOTEENN, SMOTETomek\n",
    "\n",
    "# algorithms\n",
    "## linear_model\n",
    "from sklearn.linear_model import LogisticRegression\n",
    "## neighbors\n",
    "from sklearn.neighbors import KNeighborsClassifier\n",
    "## svm\n",
    "from sklearn.svm import SVC\n",
    "## tree\n",
    "from sklearn.tree import DecisionTreeClassifier\n",
    "## ensample\n",
    "from sklearn.ensemble import ExtraTreesClassifier, RandomForestClassifier, GradientBoostingClassifier\n",
    "from lightgbm import LGBMClassifier\n",
    "from xgboost import XGBClassifier"
   ]
  },
  {
   "cell_type": "markdown",
   "metadata": {},
   "source": [
    "<b>Load Dataset</b>"
   ]
  },
  {
   "cell_type": "code",
   "execution_count": 17,
   "metadata": {},
   "outputs": [],
   "source": [
    "# dataset\n",
    "df_base = pd.read_csv('../../dataset/cleaned/train.csv')\n",
    "df_base['area_code'] = df_base['area_code'].astype(str)\n",
    "\n",
    "## \n",
    "num_cols = df_base.select_dtypes(np.number).columns.tolist()\n",
    "cat_cols = df_base.select_dtypes('object').columns.tolist()[0:-1]\n",
    "\n",
    "##\n",
    "num_idxes = [i for i, name in enumerate(df_base.columns.tolist()) if name in num_cols]\n",
    "cat_idxes = [i for i, name in enumerate(df_base.columns.tolist()) if name in cat_cols]"
   ]
  }
 ],
 "metadata": {
  "kernelspec": {
   "display_name": "mlops_lab",
   "language": "python",
   "name": "python3"
  },
  "language_info": {
   "codemirror_mode": {
    "name": "ipython",
    "version": 3
   },
   "file_extension": ".py",
   "mimetype": "text/x-python",
   "name": "python",
   "nbconvert_exporter": "python",
   "pygments_lexer": "ipython3",
   "version": "3.11.9"
  }
 },
 "nbformat": 4,
 "nbformat_minor": 2
}
