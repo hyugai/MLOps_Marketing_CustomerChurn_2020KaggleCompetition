{
 "cells": [
  {
   "cell_type": "markdown",
   "metadata": {},
   "source": [
    "# Preparation"
   ]
  },
  {
   "cell_type": "markdown",
   "metadata": {},
   "source": [
    "<b>Load Libraries</b>"
   ]
  },
  {
   "cell_type": "code",
   "execution_count": 11,
   "metadata": {},
   "outputs": [],
   "source": [
    "# data structures\n",
    "import numpy as np\n",
    "import pandas as pd\n",
    "\n",
    "# visualization\n",
    "import matplotlib.pyplot as plt\n",
    "import seaborn as sns\n",
    "## settings\n",
    "plt.rcParams['figure.figsize'] = (10, 6)\n",
    "sns.set_theme('notebook')\n",
    "\n",
    "# models selection\n",
    "from sklearn.model_selection import train_test_split, RepeatedStratifiedKFold, cross_val_score\n",
    "\n",
    "# metrics\n",
    "from sklearn.metrics import fbeta_score, make_scorer\n",
    "\n",
    "# pipeline\n",
    "from imblearn.pipeline import Pipeline\n",
    "\n",
    "# compose\n",
    "from sklearn.compose import ColumnTransformer\n",
    "\n",
    "# preprocessings\n",
    "from sklearn.preprocessing import StandardScaler, PowerTransformer, QuantileTransformer\n",
    "from sklearn.preprocessing import OneHotEncoder, LabelEncoder, TargetEncoder\n",
    "from category_encoders.cat_boost import CatBoostEncoder\n",
    "\n",
    "# features selection\n",
    "from mlxtend.feature_selection import SequentialFeatureSelector\n",
    "\n",
    "# resamplings\n",
    "from imblearn.over_sampling import RandomOverSampler, SMOTE\n",
    "from imblearn.combine import SMOTEENN, SMOTETomek\n",
    "\n",
    "# algorithms\n",
    "## linear_model\n",
    "from sklearn.linear_model import LogisticRegression\n",
    "## neighbors\n",
    "from sklearn.neighbors import KNeighborsClassifier\n",
    "## svm\n",
    "from sklearn.svm import SVC\n",
    "## tree\n",
    "from sklearn.tree import DecisionTreeClassifier\n",
    "## ensample\n",
    "from sklearn.ensemble import ExtraTreesClassifier, RandomForestClassifier, GradientBoostingClassifier\n",
    "from lightgbm import LGBMClassifier\n",
    "from xgboost import XGBClassifier\n",
    "\n",
    "# others\n",
    "import re\n",
    "from sklearn.base import BaseEstimator, TransformerMixin"
   ]
  },
  {
   "cell_type": "code",
   "execution_count": 2,
   "metadata": {},
   "outputs": [],
   "source": [
    "# model's type separation\n",
    "parametric_models = ['LR']\n",
    "non_parametric_models = ['KNN', 'SVM', 'CART']\n",
    "ensample_models = ['ET', 'RF', 'GB', 'LGBM', 'XGB']"
   ]
  },
  {
   "cell_type": "markdown",
   "metadata": {},
   "source": [
    "<b>Load Dataset</b>"
   ]
  },
  {
   "cell_type": "code",
   "execution_count": 3,
   "metadata": {},
   "outputs": [],
   "source": [
    "# dataset\n",
    "df_base = pd.read_csv('../../../dataset/cleaned/train.csv')\n",
    "df_base['area_code'] = df_base['area_code'].astype(str)\n",
    "\n",
    "## \n",
    "num_cols = df_base.select_dtypes(np.number).columns.tolist()\n",
    "cat_cols = df_base.select_dtypes('object').columns.tolist()[0:-1]\n",
    "\n",
    "##\n",
    "num_idxes = [i for i, name in enumerate(df_base.columns.tolist()) if name in num_cols]\n",
    "cat_idxes = [i for i, name in enumerate(df_base.columns.tolist()) if name in cat_cols]"
   ]
  },
  {
   "cell_type": "code",
   "execution_count": 4,
   "metadata": {},
   "outputs": [],
   "source": [
    "# cross validation\n",
    "##\n",
    "arr = df_base.values\n",
    "le = LabelEncoder()\n",
    "\n",
    "##\n",
    "X, y = arr[:, :-1], le.fit_transform(arr[:, -1])\n",
    "X_train, X_test, y_train, y_test = train_test_split(X, y, test_size=0.3, stratify=y, random_state=5)"
   ]
  },
  {
   "cell_type": "markdown",
   "metadata": {},
   "source": [
    "<b>User-Defined Functions</b>"
   ]
  },
  {
   "cell_type": "code",
   "execution_count": 5,
   "metadata": {},
   "outputs": [],
   "source": [
    "# parsed names:\n",
    "def get_parsed_names(old_names: list, new_names: list) -> list:\n",
    "    parsed_names = []\n",
    "\n",
    "    for name in new_names:\n",
    "        eles = [ele for ele in re.split('_', name) if ele != '']\n",
    "        eles[1] = int(re.split('x', eles[1])[-1])\n",
    "\n",
    "        if name != 'remainder':\n",
    "            parsed_names.append(\n",
    "                f'{old_names[eles[1]]}_{eles[-1]}'\n",
    "            )\n",
    "        else:\n",
    "            parsed_names.append(f'{old_names[eles[1]]}')\n",
    "\n",
    "    return parsed_names"
   ]
  },
  {
   "cell_type": "code",
   "execution_count": 6,
   "metadata": {},
   "outputs": [],
   "source": [
    "# models\n",
    "def load_base_models() -> list:\n",
    "    models = []\n",
    "    models.append(('LR', LogisticRegression(n_jobs=-1)))\n",
    "    models.append(('KNN', KNeighborsClassifier(n_jobs=-1)))\n",
    "    models.append(('SVM', SVC()))\n",
    "    models.append(('CART', DecisionTreeClassifier()))\n",
    "    models.append(('ET', ExtraTreesClassifier(n_jobs=-1)))\n",
    "    models.append(('RF', RandomForestClassifier(n_jobs=-1)))\n",
    "    models.append(('GB', GradientBoostingClassifier()))\n",
    "    models.append(('LGBM', LGBMClassifier(verbose=-1, n_jobs=-1)))\n",
    "    models.append(('XGB', XGBClassifier(n_jobs=-1)))\n",
    "\n",
    "    return models "
   ]
  },
  {
   "cell_type": "code",
   "execution_count": 7,
   "metadata": {},
   "outputs": [],
   "source": [
    "# pipelines\n",
    "def get_pipelines(\n",
    "        base_models: list,\n",
    "        ohe: list=[], other_encoders: list=[],\n",
    "        scaling: list=[], pca: list=[], resampling: list=[], \n",
    ") -> list:\n",
    "    ## [<name>, <estimator>]\n",
    "    steps_num_pro = scaling + pca + resampling\n",
    "    num_pro = [('num_pro', Pipeline(steps_num_pro), num_idxes)]\n",
    "\n",
    "    ## [<name>, <estimator>, <idxes>]\n",
    "    cat_pro = ohe + other_encoders\n",
    "        \n",
    "    ##\n",
    "    if len(steps_num_pro) != 0:\n",
    "        transformers = num_pro + cat_pro\n",
    "    else:\n",
    "        transformers = cat_pro\n",
    "    ct = [('transform', ColumnTransformer(transformers, remainder='passthrough'))]\n",
    "\n",
    "    ##\n",
    "    pipelines = []\n",
    "    for name, model in base_models:\n",
    "        steps = ct + [(name, model)]\n",
    "        pipelines.append((name, Pipeline(steps)))\n",
    "        \n",
    "    return pipelines"
   ]
  },
  {
   "cell_type": "code",
   "execution_count": 8,
   "metadata": {},
   "outputs": [],
   "source": [
    "# kflold results\n",
    "def get_kfold_results(models: list, X: np.ndarray, y: np.ndarray) -> tuple[list, list]:\n",
    "    ##\n",
    "    names, results = [], []\n",
    "    cv = RepeatedStratifiedKFold(\n",
    "        n_splits=10, n_repeats=3, \n",
    "        random_state=7\n",
    "    )\n",
    "    scoring = make_scorer(fbeta_score, beta=2)\n",
    "\n",
    "    ##\n",
    "    for name, model in models:\n",
    "        cv_results = cross_val_score(\n",
    "            estimator=model, \n",
    "            X=X, y=y, \n",
    "            cv=cv, scoring=scoring\n",
    "        )\n",
    "\n",
    "        print(f'{name}: {cv_results.mean()} ({cv_results.std()})')\n",
    "        names.append(name); results.append(cv_results)\n",
    "\n",
    "    return names, results"
   ]
  },
  {
   "cell_type": "code",
   "execution_count": 9,
   "metadata": {},
   "outputs": [],
   "source": [
    "# selected models\n",
    "def get_selected_base_models(names_to_choose: list) -> list:\n",
    "    models = load_base_models()\n",
    "    selected_models = [(name, model) for name, model in models if name in names_to_choose]\n",
    "\n",
    "    return selected_models"
   ]
  },
  {
   "cell_type": "code",
   "execution_count": 10,
   "metadata": {},
   "outputs": [],
   "source": [
    "# kfold visualization\n",
    "def plot_kfold_results(names: list, results: list):\n",
    "    data_to_plot = dict()\n",
    "    for name, result in zip(names, results):\n",
    "        data_to_plot[name] = result\n",
    "    \n",
    "    ##\n",
    "    data_to_plot = pd.DataFrame(\n",
    "        data=data_to_plot\n",
    "    )\n",
    "\n",
    "    new_idxes = data_to_plot.mean(axis=0)\\\n",
    "        .sort_values(ascending=False)\\\n",
    "            .index.tolist()\n",
    "    data_to_plot = data_to_plot.reindex(\n",
    "        labels=new_idxes, \n",
    "        axis=1\n",
    "    )\n",
    "\n",
    "    ##\n",
    "    g = sns.boxplot(\n",
    "        data_to_plot, \n",
    "        fill=False, \n",
    "        showmeans=True\n",
    "    )\n",
    "    for i in range(3):\n",
    "        g.get_xticklabels()[i].set_fontweight('bold')\n",
    "        g.get_xticklabels()[i].set_color('r')"
   ]
  },
  {
   "cell_type": "markdown",
   "metadata": {},
   "source": [
    "<b>User-Defined Classes</b>"
   ]
  },
  {
   "cell_type": "markdown",
   "metadata": {},
   "source": [
    "# 1. Baseline Evaluation"
   ]
  },
  {
   "cell_type": "code",
   "execution_count": 16,
   "metadata": {},
   "outputs": [
    {
     "name": "stdout",
     "output_type": "stream",
     "text": [
      "LR: 0.13228050685782308 (0.0541376961381269)\n",
      "KNN: 0.3590482148333225 (0.08163408925075537)\n",
      "SVM: 0.0 (0.0)\n",
      "CART: 0.7247973386596925 (0.060418161379555003)\n",
      "ET: 0.49147606052055254 (0.0925377437954517)\n",
      "RF: 0.6540194103993799 (0.06565988718874066)\n",
      "GB: 0.7621787368852728 (0.0560301409274057)\n",
      "LGBM: 0.7904782196037831 (0.052733861062937704)\n",
      "XGB: 0.7788322510027165 (0.056953790262783334)\n"
     ]
    }
   ],
   "source": [
    "## filter out warning\n",
    "from warnings import simplefilter\n",
    "simplefilter(action='ignore')\n",
    "\n",
    "# base models\n",
    "models = load_base_models()\n",
    "\n",
    "## encoding\n",
    "encoding = [('ohe', OneHotEncoder(drop='first', sparse_output=False), cat_idxes)]\n",
    "\n",
    "## pipelines\n",
    "pipelines = get_pipelines(\n",
    "    base_models=models, \n",
    "    ohe=encoding\n",
    ")\n",
    "\n",
    "## kfold results\n",
    "names, results = get_kfold_results(\n",
    "    models=pipelines, \n",
    "    X=X_train, y=y_train\n",
    ")"
   ]
  },
  {
   "cell_type": "code",
   "execution_count": 17,
   "metadata": {},
   "outputs": [
    {
     "data": {
      "image/png": "[encoded data removed]",
      "text/plain": [
       "<Figure size 1000x600 with 1 Axes>"
      ]
     },
     "metadata": {},
     "output_type": "display_data"
    }
   ],
   "source": [
    "# visualizations\n",
    "plot_kfold_results(\n",
    "    names=names, results=results\n",
    ")"
   ]
  },
  {
   "cell_type": "code",
   "execution_count": 23,
   "metadata": {},
   "outputs": [
    {
     "name": "stdout",
     "output_type": "stream",
     "text": [
      "could not convert string to float: 'NJ'\n"
     ]
    }
   ],
   "source": [
    "try:\n",
    "    X_train[:, 0].astype(float)\n",
    "except Exception as e:\n",
    "    print(e)"
   ]
  },
  {
   "cell_type": "code",
   "execution_count": 25,
   "metadata": {},
   "outputs": [],
   "source": [
    "a, b = [], []\n",
    "for i in range(19):\n",
    "    try:\n",
    "        X_train[:, i].astype(float)\n",
    "        a.append(i)\n",
    "    except:\n",
    "        b.append(i)\n"
   ]
  },
  {
   "cell_type": "code",
   "execution_count": 27,
   "metadata": {},
   "outputs": [
    {
     "data": {
      "text/plain": [
       "[0, 3, 4]"
      ]
     },
     "execution_count": 27,
     "metadata": {},
     "output_type": "execute_result"
    }
   ],
   "source": [
    "b"
   ]
  }
 ],
 "metadata": {
  "kernelspec": {
   "display_name": "mlops_lab",
   "language": "python",
   "name": "python3"
  },
  "language_info": {
   "codemirror_mode": {
    "name": "ipython",
    "version": 3
   },
   "file_extension": ".py",
   "mimetype": "text/x-python",
   "name": "python",
   "nbconvert_exporter": "python",
   "pygments_lexer": "ipython3",
   "version": "3.11.9"
  }
 },
 "nbformat": 4,
 "nbformat_minor": 2
}
