{
 "cells": [
  {
   "cell_type": "markdown",
   "metadata": {},
   "source": [
    "# Preparation"
   ]
  },
  {
   "cell_type": "markdown",
   "metadata": {},
   "source": [
    "<b>Load Libraries</b>"
   ]
  },
  {
   "cell_type": "code",
   "execution_count": 7,
   "metadata": {},
   "outputs": [],
   "source": [
    "# data structures\n",
    "import numpy as np\n",
    "import pandas as pd\n",
    "\n",
    "# visualization\n",
    "import matplotlib.pyplot as plt\n",
    "import seaborn as sns\n",
    "## settings\n",
    "plt.rcParams['figure.figsize'] = (10, 6)\n",
    "sns.set_theme('notebook')\n",
    "\n",
    "# models selection\n",
    "from sklearn.model_selection import train_test_split, RepeatedStratifiedKFold, cross_val_score\n",
    "\n",
    "# metrics\n",
    "from sklearn.metrics import fbeta_score, make_scorer\n",
    "\n",
    "# pipeline\n",
    "from imblearn.pipeline import Pipeline\n",
    "\n",
    "# compose\n",
    "from sklearn.compose import ColumnTransformer\n",
    "\n",
    "# preprocessings\n",
    "from sklearn.preprocessing import StandardScaler, PowerTransformer, QuantileTransformer\n",
    "from sklearn.preprocessing import OneHotEncoder, LabelEncoder, TargetEncoder\n",
    "from category_encoders.cat_boost import CatBoostEncoder\n",
    "\n",
    "# decomposition\n",
    "from sklearn.decomposition import PCA\n",
    "\n",
    "# features selection\n",
    "from mlxtend.feature_selection import SequentialFeatureSelector\n",
    "\n",
    "# resamplings\n",
    "from imblearn.over_sampling import RandomOverSampler, SMOTE\n",
    "from imblearn.combine import SMOTEENN, SMOTETomek\n",
    "\n",
    "# algorithms\n",
    "## linear_model\n",
    "from sklearn.linear_model import LogisticRegression\n",
    "## neighbors\n",
    "from sklearn.neighbors import KNeighborsClassifier\n",
    "## svm\n",
    "from sklearn.svm import SVC\n",
    "## tree\n",
    "from sklearn.tree import DecisionTreeClassifier\n",
    "## ensample\n",
    "from sklearn.ensemble import ExtraTreesClassifier, RandomForestClassifier, GradientBoostingClassifier\n",
    "from lightgbm import LGBMClassifier\n",
    "from xgboost import XGBClassifier\n",
    "\n",
    "# mlflow\n",
    "import mlflow\n",
    "from mlflow.models import infer_signature\n",
    "\n",
    "# others\n",
    "import re, joblib, os\n",
    "from sklearn.base import BaseEstimator, TransformerMixin"
   ]
  },
  {
   "cell_type": "code",
   "execution_count": 8,
   "metadata": {},
   "outputs": [],
   "source": [
    "# user-defined modules\n",
    "##\n",
    "cwd = os.getcwd()\n",
    "os.chdir('../../../')\n",
    "\n",
    "##\n",
    "from usr_modules.mlflow_usr_defined import MLflowModel\n",
    "\n",
    "##\n",
    "os.chdir(cwd)"
   ]
  },
  {
   "cell_type": "code",
   "execution_count": 9,
   "metadata": {},
   "outputs": [],
   "source": [
    "# model's type separation\n",
    "parametric_models = ['LR']\n",
    "non_parametric_models = ['KNN', 'SVM', 'CART']\n",
    "ensample_models = ['ET', 'RF', 'GB', 'LGBM', 'XGB']"
   ]
  },
  {
   "cell_type": "markdown",
   "metadata": {},
   "source": [
    "<b>Load Dataset</b>"
   ]
  },
  {
   "cell_type": "code",
   "execution_count": 10,
   "metadata": {},
   "outputs": [],
   "source": [
    "# dataset\n",
    "df_base = pd.read_csv('../../../dataset/cleaned/train.csv')\n",
    "\n",
    "## \n",
    "num_cols = df_base.select_dtypes(np.number).columns.tolist()\n",
    "cat_cols = df_base.select_dtypes('object').columns.tolist()[0:-1]\n",
    "\n",
    "##\n",
    "num_idxes = [i for i, name in enumerate(df_base.columns.tolist()) if name in num_cols]\n",
    "cat_idxes = [i for i, name in enumerate(df_base.columns.tolist()) if name in cat_cols]"
   ]
  },
  {
   "cell_type": "code",
   "execution_count": 11,
   "metadata": {},
   "outputs": [],
   "source": [
    "# cross validation\n",
    "##\n",
    "arr = df_base.values\n",
    "le = LabelEncoder()\n",
    "\n",
    "##\n",
    "X, y = arr[:, :-1], le.fit_transform(arr[:, -1])\n",
    "X_train, X_test, y_train, y_test = train_test_split(X, y, test_size=0.3, stratify=y, random_state=5)"
   ]
  },
  {
   "cell_type": "markdown",
   "metadata": {},
   "source": [
    "<b>MLflow</b>"
   ]
  },
  {
   "cell_type": "code",
   "execution_count": 12,
   "metadata": {},
   "outputs": [],
   "source": [
    "# server connection\n",
    "mlflow.set_tracking_uri('http://127.0.0.1:5000/')"
   ]
  },
  {
   "cell_type": "code",
   "execution_count": 13,
   "metadata": {},
   "outputs": [
    {
     "name": "stdout",
     "output_type": "stream",
     "text": [
      "'Features Engineering' has already existed.\n"
     ]
    }
   ],
   "source": [
    "# experiment creation & conneting\n",
    "experiment_name = 'Features Engineering'\n",
    "try:\n",
    "    mlflow.create_experiment(\n",
    "        name=experiment_name, \n",
    "        artifact_location='mlflow/_artifacts_store'\n",
    "    )\n",
    "    mlflow.set_experiment(\n",
    "        experiment_name=experiment_name\n",
    "    )\n",
    "except:\n",
    "    print(f'\\'{experiment_name}\\' has already existed.')\n",
    "    mlflow.set_experiment(\n",
    "        experiment_name=experiment_name\n",
    "    )"
   ]
  },
  {
   "cell_type": "markdown",
   "metadata": {},
   "source": [
    "<b>User-Defined Functions</b>"
   ]
  },
  {
   "cell_type": "code",
   "execution_count": 14,
   "metadata": {},
   "outputs": [],
   "source": [
    "# parsed names\n",
    "def get_parsed_names(old_names: list, new_names: list) -> list:\n",
    "    parsed_names = []\n",
    "\n",
    "    for name in new_names:\n",
    "        eles = [ele for ele in re.split('_', name) if ele != '']\n",
    "        eles[1] = int(re.split('x', eles[1])[-1])\n",
    "\n",
    "        if name != 'remainder':\n",
    "            parsed_names.append(\n",
    "                f'{old_names[eles[1]]}_{eles[-1]}'\n",
    "            )\n",
    "        else:\n",
    "            parsed_names.append(f'{old_names[eles[1]]}')\n",
    "\n",
    "    return parsed_names"
   ]
  },
  {
   "cell_type": "code",
   "execution_count": 15,
   "metadata": {},
   "outputs": [],
   "source": [
    "# models\n",
    "def load_base_models() -> list:\n",
    "    models = []\n",
    "    models.append(('LR', LogisticRegression(n_jobs=-1)))\n",
    "    models.append(('KNN', KNeighborsClassifier(n_jobs=-1)))\n",
    "    models.append(('SVM', SVC()))\n",
    "    models.append(('CART', DecisionTreeClassifier()))\n",
    "    models.append(('ET', ExtraTreesClassifier(n_jobs=-1)))\n",
    "    models.append(('RF', RandomForestClassifier(n_jobs=-1)))\n",
    "    models.append(('GB', GradientBoostingClassifier()))\n",
    "    models.append(('LGBM', LGBMClassifier(verbose=-1, n_jobs=-1)))\n",
    "    models.append(('XGB', XGBClassifier(n_jobs=-1)))\n",
    "\n",
    "    return models "
   ]
  },
  {
   "cell_type": "code",
   "execution_count": 16,
   "metadata": {},
   "outputs": [],
   "source": [
    "# pipelines\n",
    "def get_pipelines(\n",
    "        base_models: list,\n",
    "        ohe: list=[], other_encoders: list=[],\n",
    "        scaling: list=[], pca: list=[], resampling: list=[], \n",
    ") -> list:\n",
    "    ## [<name>, <estimator>]\n",
    "    steps_num_pro = scaling + pca + resampling\n",
    "    num_pro = [('num_pro', Pipeline(steps_num_pro), num_idxes)]\n",
    "\n",
    "    ## [<name>, <estimator>, <idxes>]\n",
    "    cat_pro = ohe + other_encoders\n",
    "        \n",
    "    ##\n",
    "    if len(steps_num_pro) != 0:\n",
    "        transformers = num_pro + cat_pro\n",
    "    else:\n",
    "        transformers = cat_pro\n",
    "    ct = [('transform', ColumnTransformer(transformers, remainder='passthrough'))]\n",
    "\n",
    "    ##\n",
    "    pipelines = []\n",
    "    for name, model in base_models:\n",
    "        steps = ct + [(name, model)]\n",
    "        pipelines.append((name, Pipeline(steps)))\n",
    "        \n",
    "    return pipelines"
   ]
  },
  {
   "cell_type": "code",
   "execution_count": 17,
   "metadata": {},
   "outputs": [],
   "source": [
    "# kflold results\n",
    "def get_kfold_results(models: list, X: np.ndarray, y: np.ndarray) -> dict:\n",
    "    ##\n",
    "    kfold_results = dict()\n",
    "    cv = RepeatedStratifiedKFold(\n",
    "        n_splits=10, n_repeats=3, \n",
    "        random_state=7\n",
    "    )\n",
    "    scoring = make_scorer(fbeta_score, beta=2)\n",
    "\n",
    "    ##\n",
    "    for name, model in models:\n",
    "        cv_results = cross_val_score(\n",
    "            estimator=model, \n",
    "            X=X, y=y, \n",
    "            cv=cv, scoring=scoring\n",
    "        )\n",
    "\n",
    "        print(f'{name}: {cv_results.mean()} ({cv_results.std()})')\n",
    "        kfold_results[name] = cv_results\n",
    "\n",
    "    return kfold_results"
   ]
  },
  {
   "cell_type": "code",
   "execution_count": 18,
   "metadata": {},
   "outputs": [],
   "source": [
    "# selected models\n",
    "def get_selected_base_models(names_to_choose: list) -> list:\n",
    "    models = load_base_models()\n",
    "    selected_models = [(name, model) for name, model in models if name in names_to_choose]\n",
    "\n",
    "    return selected_models"
   ]
  },
  {
   "cell_type": "code",
   "execution_count": 19,
   "metadata": {},
   "outputs": [],
   "source": [
    "# kfold visualization\n",
    "def plot_kfold_results(kfold_results: dict):\n",
    "    ##\n",
    "    data_to_plot = pd.DataFrame(kfold_results)\n",
    "\n",
    "    ##\n",
    "    new_idxes = data_to_plot.mean(axis=0)\\\n",
    "        .sort_values(ascending=False)\\\n",
    "            .index.tolist()\n",
    "    data_to_plot = data_to_plot.reindex(\n",
    "        labels=new_idxes, \n",
    "        axis=1\n",
    "    )\n",
    "\n",
    "    ##\n",
    "    g = sns.boxplot(\n",
    "        data_to_plot, \n",
    "        fill=False, \n",
    "        showmeans=True\n",
    "    )\n",
    "    for i in range(3):\n",
    "        g.get_xticklabels()[i].set_fontweight('bold')\n",
    "        g.get_xticklabels()[i].set_color('r')"
   ]
  },
  {
   "cell_type": "markdown",
   "metadata": {},
   "source": [
    "<b>User-Defined Classes</b>"
   ]
  },
  {
   "cell_type": "code",
   "execution_count": 20,
   "metadata": {},
   "outputs": [],
   "source": [
    "# class SFS Base\n",
    "class FS_BaseUserDefinedTransformer(BaseEstimator, TransformerMixin):\n",
    "    ## \n",
    "    def __init__(self, \n",
    "                 ohe=None, other_encoders=None,\n",
    "                 scaling: list=[], factor_analysis: list=[]) -> None:\n",
    "        ###\n",
    "        self.scaling, self.factor_analysis = scaling, factor_analysis\n",
    "        ### \n",
    "        self.ohe, self.other_encoders = ohe, other_encoders\n",
    "\n",
    "\n",
    "    ##\n",
    "    def _check_ndim(self, X: np.ndarray) -> tuple[np.ndarray, int]:\n",
    "        ###\n",
    "        if X.ndim == 2:\n",
    "            X_ = X\n",
    "            num_iters = X.shape[1]\n",
    "        else:\n",
    "            X_ = X.reshape(-1, 1)\n",
    "            num_iters = 1\n",
    "\n",
    "        return X_, num_iters\n",
    "    \n",
    "    ##\n",
    "    def _category_detection(self, X: np.ndarray) -> tuple[list, list, np.ndarray]:\n",
    "        ###\n",
    "        num_idxes, cat_idxes = [], []\n",
    "\n",
    "        ### check dimension\n",
    "        X_, num_iters = self._check_ndim(X=X)\n",
    "\n",
    "        ###\n",
    "        for i in range(num_iters):\n",
    "            try:\n",
    "                X_[:1, i].astype(float)\n",
    "                num_idxes.append(i)\n",
    "            except:\n",
    "                cat_idxes.append(i)\n",
    "        \n",
    "        return num_idxes, cat_idxes, X_\n",
    "    \n",
    "    ##\n",
    "    def _get_transformers(self, cat_idxes: list=[], num_idxes: list=[]) -> list:\n",
    "        if len(num_idxes) == 0:\n",
    "            transformers = self.cat_pro\n",
    "        elif len(cat_idxes) == 0:\n",
    "            transformers = self.num_pro\n",
    "        else:\n",
    "            transformers = self.num_pro + self.cat_pro\n",
    "\n",
    "        return transformers \n",
    "    \n",
    "    ## \n",
    "    def fit(self, X: np.ndarray, y=None):\n",
    "        ###\n",
    "        transformers = self._get_transformers(self.cat_idxes, self.num_idxes)\n",
    "        self.ct = ColumnTransformer(transformers, remainder='passthrough')\n",
    "        self.ct.fit(self.X_fit_)\n",
    "\n",
    "        return self\n",
    "    \n",
    "    ##\n",
    "    def transform(self, X: np.ndarray, y=None):\n",
    "        X_, _ = self._check_ndim(X=X)\n",
    "\n",
    "        return self.ct.transform(X=X_)"
   ]
  },
  {
   "cell_type": "code",
   "execution_count": 21,
   "metadata": {},
   "outputs": [],
   "source": [
    "# Onehot_Scaling_Pca\n",
    "class SFS_OSP(FS_BaseUserDefinedTransformer):\n",
    "    def fit(self, X: np.ndarray, y=None):\n",
    "        ###\n",
    "        self.num_idxes, self.cat_idxes, self.X_fit_ = self._category_detection(X)\n",
    "\n",
    "        ###\n",
    "        steps = self.scaling + self.factor_analysis\n",
    "        self.num_pro = [('num_pro', Pipeline(steps), self.num_idxes)]\n",
    "\n",
    "        self.cat_pro = [('cat_pro', self.ohe, self.cat_idxes)]\n",
    "\n",
    "        ###\n",
    "        super().fit(X=X)\n",
    "        \n",
    "        return self"
   ]
  },
  {
   "cell_type": "markdown",
   "metadata": {},
   "source": [
    "# 1. Baseline Evaluation"
   ]
  },
  {
   "cell_type": "code",
   "execution_count": 74,
   "metadata": {},
   "outputs": [
    {
     "name": "stdout",
     "output_type": "stream",
     "text": [
      "LR: 0.13228050685782308 (0.0541376961381269)\n",
      "KNN: 0.3590482148333225 (0.08163408925075537)\n",
      "SVM: 0.0 (0.0)\n",
      "CART: 0.7230301704431803 (0.05565670801270096)\n",
      "ET: 0.5110814016595057 (0.08318338444964417)\n",
      "RF: 0.6616640743186097 (0.08292081282396639)\n",
      "GB: 0.7641055177427308 (0.055433904832365224)\n",
      "LGBM: 0.7904782196037831 (0.052733861062937704)\n",
      "XGB: 0.7788322510027165 (0.056953790262783334)\n"
     ]
    }
   ],
   "source": [
    "## filter out warning\n",
    "from warnings import simplefilter\n",
    "simplefilter(action='ignore')\n",
    "\n",
    "# base models\n",
    "models = load_base_models()\n",
    "\n",
    "## encoding\n",
    "encoding = [('ohe', OneHotEncoder(drop='first', sparse_output=False), cat_idxes)]\n",
    "\n",
    "## pipelines\n",
    "pipelines = get_pipelines(\n",
    "    base_models=models, \n",
    "    ohe=encoding\n",
    ")\n",
    "\n",
    "## kfold results\n",
    "kfold_results = get_kfold_results(\n",
    "    models=pipelines, \n",
    "    X=X_train, y=y_train\n",
    ")"
   ]
  },
  {
   "cell_type": "code",
   "execution_count": 75,
   "metadata": {},
   "outputs": [
    {
     "data": {
      "image/png": "[encoded data removed]",
      "text/plain": [
       "<Figure size 1000x600 with 1 Axes>"
      ]
     },
     "metadata": {},
     "output_type": "display_data"
    }
   ],
   "source": [
    "# visualizations\n",
    "plot_kfold_results(\n",
    "    kfold_results=kfold_results\n",
    ")"
   ]
  },
  {
   "cell_type": "code",
   "execution_count": 76,
   "metadata": {},
   "outputs": [],
   "source": [
    "# \n",
    "## filter out warning\n",
    "from warnings import simplefilter\n",
    "simplefilter(action='ignore')\n",
    "\n",
    "## base model\n",
    "models = load_base_models()\n",
    "\n",
    "## encoding\n",
    "ohe = [('ohe', OneHotEncoder(drop='first', sparse_output=False), cat_idxes)]\n",
    "\n",
    "## pipelines\n",
    "pipelines = get_pipelines(\n",
    "    base_models=models, \n",
    "    ohe=ohe\n",
    ")\n",
    "\n",
    "## mlflow\n",
    "for name, pipeline in pipelines:\n",
    "    ###\n",
    "    pipeline.fit(X_train, y_train)\n",
    "\n",
    "    ###\n",
    "    val_predictions = pipeline.predict(X_test)\n",
    "    val_fbeta = fbeta_score(\n",
    "        y_true=y_test, y_pred=val_predictions, \n",
    "        beta=2\n",
    "    )\n",
    "\n",
    "    ### mlflow\n",
    "    with mlflow.start_run():\n",
    "        ####\n",
    "        mlflow.set_tags(\n",
    "            {\n",
    "                'pipeline': 'OneHot', \n",
    "                'base_model': name\n",
    "            }\n",
    "        )\n",
    "\n",
    "        ####\n",
    "        mlflow.log_metrics(\n",
    "            {\n",
    "                'avg_fbeta': kfold_results[name].mean(), \n",
    "                'val_fbeta': val_fbeta\n",
    "            }\n",
    "        )\n",
    "\n",
    "        ####\n",
    "        mlflow.sklearn.log_model(\n",
    "            sk_model=pipeline, \n",
    "            artifact_path=name\n",
    "        )"
   ]
  },
  {
   "cell_type": "markdown",
   "metadata": {},
   "source": [
    "# 2. Encoding && Scaling"
   ]
  },
  {
   "cell_type": "markdown",
   "metadata": {},
   "source": [
    "<b>OneHot && Standardization</b>"
   ]
  },
  {
   "cell_type": "code",
   "execution_count": 3,
   "metadata": {},
   "outputs": [],
   "source": [
    "# artifacts' path\n",
    "artifacts_path = dict()\n",
    "artifacts_path['feature_selector'] = '../../_artifacts/ohe_std.joblib'\n",
    "artifacts_path['model'] = '../../_artifacts/ohe_std_lgbm.joblib'"
   ]
  },
  {
   "cell_type": "code",
   "execution_count": 78,
   "metadata": {},
   "outputs": [
    {
     "name": "stderr",
     "output_type": "stream",
     "text": [
      "\n",
      "[2024-07-25 15:51:32] Features: 1/19 -- score: 0.2381489118845433\n",
      "[2024-07-25 15:51:54] Features: 2/19 -- score: 0.42408191254368577\n",
      "[2024-07-25 15:52:16] Features: 3/19 -- score: 0.5754211684925191\n",
      "[2024-07-25 15:52:40] Features: 4/19 -- score: 0.6225729598342019\n",
      "[2024-07-25 15:53:03] Features: 5/19 -- score: 0.6584611009627147\n",
      "[2024-07-25 15:53:25] Features: 6/19 -- score: 0.66052986385995\n",
      "[2024-07-25 15:53:48] Features: 7/19 -- score: 0.6617499533205715\n",
      "[2024-07-25 15:54:07] Features: 8/19 -- score: 0.6601361994499585\n",
      "[2024-07-25 15:54:26] Features: 9/19 -- score: 0.7311445443588926\n",
      "[2024-07-25 15:54:44] Features: 10/19 -- score: 0.7990904116019475\n",
      "[2024-07-25 15:55:03] Features: 11/19 -- score: 0.8020770922467613\n",
      "[2024-07-25 15:55:20] Features: 12/19 -- score: 0.8020770922467613\n",
      "[2024-07-25 15:55:35] Features: 13/19 -- score: 0.8005928428259913\n",
      "[2024-07-25 15:55:47] Features: 14/19 -- score: 0.8008545466925517\n",
      "[2024-07-25 15:56:00] Features: 15/19 -- score: 0.8014141696172937\n",
      "[2024-07-25 15:56:10] Features: 16/19 -- score: 0.7947300380225462\n",
      "[2024-07-25 15:56:18] Features: 17/19 -- score: 0.7955928909863051\n",
      "[2024-07-25 15:56:23] Features: 18/19 -- score: 0.795227678852249\n",
      "[2024-07-25 15:56:26] Features: 19/19 -- score: 0.7866142783049318"
     ]
    },
    {
     "data": {
      "text/plain": [
       "['../../_artifacts/ohe_std_lgbm.joblib']"
      ]
     },
     "execution_count": 78,
     "metadata": {},
     "output_type": "execute_result"
    }
   ],
   "source": [
    "## warnings\n",
    "from warnings import simplefilter\n",
    "simplefilter(action='ignore')\n",
    "\n",
    "## transformers: standardize\n",
    "transformers = SFS_OSP(\n",
    "    ohe=OneHotEncoder(drop='first', sparse_output=False), \n",
    "    scaling=[('scaling', StandardScaler())]\n",
    ")\n",
    "## base model\n",
    "base_model = get_selected_base_models(\n",
    "    names_to_choose=['LGBM']\n",
    ")\n",
    "\n",
    "## pipeline\n",
    "pipeline = Pipeline(\n",
    "    steps=[('transformers', transformers)] + base_model\n",
    ")\n",
    "\n",
    "## sfs: forward\n",
    "sfs = SequentialFeatureSelector(\n",
    "    estimator=pipeline, \n",
    "    k_features='best', forward=True, \n",
    "    cv=RepeatedStratifiedKFold(n_splits=10, n_repeats=3, random_state=7),\n",
    "    scoring=make_scorer(fbeta_score, beta=2), \n",
    "    verbose=2\n",
    ")\n",
    "sfs.fit(X_train, y_train)\n",
    "joblib.dump(\n",
    "    value=sfs, \n",
    "    filename=artifacts_path['feature_selector']\n",
    ")\n",
    "\n",
    "## save\n",
    "pipeline.fit(sfs.transform(X_train), y_train)\n",
    "joblib.dump(\n",
    "    value=pipeline, \n",
    "    filename=artifacts_path['model']\n",
    ")"
   ]
  },
  {
   "cell_type": "code",
   "execution_count": 79,
   "metadata": {},
   "outputs": [],
   "source": [
    "# model logging\n",
    "##\n",
    "val_predictions = pipeline.predict(sfs.transform(X_test))\n",
    "val_fbeta = fbeta_score(\n",
    "    y_true=y_test, y_pred=val_predictions, \n",
    "    beta=2\n",
    ")\n",
    "\n",
    "## mlflow\n",
    "with mlflow.start_run():\n",
    "    ###\n",
    "    mlflow.set_tags(\n",
    "        {\n",
    "            'pipeline': 'OneHot && Scaling(standardize)', \n",
    "            'base_model': 'LGBM', \n",
    "            'feature_selection': 'true'\n",
    "        }\n",
    "    )\n",
    "\n",
    "    ###\n",
    "    mlflow.log_metrics(\n",
    "        {\n",
    "            'avg_fbeta': sfs.k_score_, \n",
    "            'val_fbeta': val_fbeta\n",
    "        }\n",
    "    )\n",
    "\n",
    "    ###\n",
    "    mlflow.pyfunc.log_model(\n",
    "        artifact_path='LGBM', \n",
    "        python_model=MLflowModel(), \n",
    "        artifacts=artifacts_path, \n",
    "        signature=infer_signature(X_train), \n",
    "        pip_requirements=['joblib', 'mlxtend', 'scikit-learn']\n",
    "    )"
   ]
  },
  {
   "cell_type": "markdown",
   "metadata": {},
   "source": [
    "<b>OneHot && PowerTransformation</b>"
   ]
  },
  {
   "cell_type": "code",
   "execution_count": 81,
   "metadata": {},
   "outputs": [],
   "source": [
    "# artifacts's path\n",
    "artifacts_path['feature_selector'] = '../../_artifacts/ohe_powertransform.joblib'\n",
    "artifacts_path['model'] = '../../_artifacts/ohe_powertransform_lgbm.joblib'"
   ]
  },
  {
   "cell_type": "code",
   "execution_count": 82,
   "metadata": {},
   "outputs": [
    {
     "name": "stderr",
     "output_type": "stream",
     "text": [
      "\n",
      "[2024-07-25 15:58:12] Features: 1/19 -- score: 0.23735039060793678\n",
      "[2024-07-25 15:58:36] Features: 2/19 -- score: 0.42582041867224146\n",
      "[2024-07-25 15:59:00] Features: 3/19 -- score: 0.5774183734798274\n",
      "[2024-07-25 15:59:26] Features: 4/19 -- score: 0.6238530809892006\n",
      "[2024-07-25 15:59:53] Features: 5/19 -- score: 0.6581735954421309\n",
      "[2024-07-25 16:00:21] Features: 6/19 -- score: 0.6586658214158743\n",
      "[2024-07-25 16:00:57] Features: 7/19 -- score: 0.7236601632131298\n",
      "[2024-07-25 16:01:08] Features: 8/19 -- score: 0.8006204713894784\n",
      "[2024-07-25 16:01:32] Features: 9/19 -- score: 0.8043225746011307\n",
      "[2024-07-25 16:01:54] Features: 10/19 -- score: 0.8054731887556635\n",
      "[2024-07-25 16:02:16] Features: 11/19 -- score: 0.8090817933195367\n",
      "[2024-07-25 16:02:35] Features: 12/19 -- score: 0.8090817933195367\n",
      "[2024-07-25 16:02:53] Features: 13/19 -- score: 0.8045225948431872\n",
      "[2024-07-25 16:03:09] Features: 14/19 -- score: 0.8039057746144053\n",
      "[2024-07-25 16:03:22] Features: 15/19 -- score: 0.8016731581905101\n",
      "[2024-07-25 16:03:33] Features: 16/19 -- score: 0.7950423137481899\n",
      "[2024-07-25 16:03:42] Features: 17/19 -- score: 0.7985077297135579\n",
      "[2024-07-25 16:04:02] Features: 18/19 -- score: 0.7957453836702186\n",
      "[2024-07-25 16:03:52] Features: 19/19 -- score: 0.7891296416032045"
     ]
    },
    {
     "data": {
      "text/plain": [
       "['../../_artifacts/ohe_powertransform_lgbm.joblib']"
      ]
     },
     "execution_count": 82,
     "metadata": {},
     "output_type": "execute_result"
    }
   ],
   "source": [
    "#\n",
    "## warnings\n",
    "from warnings import simplefilter\n",
    "simplefilter(action='ignore')\n",
    "\n",
    "## transformers\n",
    "transformers = SFS_OSP(\n",
    "    ohe=OneHotEncoder(drop='first', sparse_output=False), \n",
    "    scaling=[('scaling', PowerTransformer(method='yeo-johnson', standardize=True))]\n",
    ")\n",
    "\n",
    "## base model\n",
    "base_model = get_selected_base_models(\n",
    "    names_to_choose=['LGBM']\n",
    ")\n",
    "\n",
    "## pipeline\n",
    "pipeline = Pipeline(\n",
    "    steps=[('transformers', transformers)] + base_model\n",
    ")\n",
    "\n",
    "## sfs: forward\n",
    "sfs = SequentialFeatureSelector(\n",
    "    estimator=pipeline, \n",
    "    k_features='best', forward=True, \n",
    "    cv=RepeatedStratifiedKFold(n_splits=10, n_repeats=3, random_state=7),\n",
    "    scoring=make_scorer(fbeta_score, beta=2), \n",
    "    verbose=2\n",
    ")\n",
    "sfs.fit(X_train, y_train)\n",
    "joblib.dump(\n",
    "    value=sfs, \n",
    "    filename=artifacts_path['feature_selector']\n",
    ")\n",
    "\n",
    "## save\n",
    "pipeline.fit(sfs.transform(X_train), y_train)\n",
    "joblib.dump(\n",
    "    value=pipeline, \n",
    "    filename=artifacts_path['model']\n",
    ")"
   ]
  },
  {
   "cell_type": "code",
   "execution_count": 84,
   "metadata": {},
   "outputs": [],
   "source": [
    "# mlflow\n",
    "##\n",
    "val_predictions = pipeline.predict(sfs.transform(X_test))\n",
    "val_fbeta = fbeta_score(\n",
    "    y_true=y_test, y_pred=val_predictions, \n",
    "    beta=2\n",
    ")\n",
    "\n",
    "##\n",
    "with mlflow.start_run():\n",
    "    ###\n",
    "    mlflow.set_tags(\n",
    "        {\n",
    "            'pipeline': 'OneHot && Scaling(power transform)', \n",
    "            'base_model': 'LGBM', \n",
    "            'feature_selection': 'true'\n",
    "        }\n",
    "    )\n",
    "\n",
    "    ###\n",
    "    mlflow.log_metrics(\n",
    "        {\n",
    "            'avg_fbeta': sfs.k_score_, \n",
    "            'val_fbeta': val_fbeta\n",
    "        }\n",
    "    )\n",
    "\n",
    "    ###\n",
    "    mlflow.pyfunc.log_model(\n",
    "        artifact_path='LGBM', \n",
    "        python_model=MLflowModel(), \n",
    "        artifacts=artifacts_path, \n",
    "        signature=infer_signature(X_train), \n",
    "        pip_requirements=['joblib', 'mlxtend', 'scikit-learn']\n",
    "    )"
   ]
  },
  {
   "cell_type": "markdown",
   "metadata": {},
   "source": [
    "<b>OneHot && QuantileTransformatin</b>"
   ]
  },
  {
   "cell_type": "code",
   "execution_count": 18,
   "metadata": {},
   "outputs": [],
   "source": [
    "# artifacts' path \n",
    "artifacts_path['feature_selector'] = '../../_artifacts/ohe_quantiletransform.joblib'\n",
    "artifacts_path['model'] = '../../_artifacts/ohe_quantiletransform_lgbm.joblib'"
   ]
  },
  {
   "cell_type": "code",
   "execution_count": 19,
   "metadata": {},
   "outputs": [
    {
     "name": "stderr",
     "output_type": "stream",
     "text": [
      "\n",
      "[2024-07-26 09:53:32] Features: 1/19 -- score: 0.23645564657585305\n",
      "[2024-07-26 09:54:05] Features: 2/19 -- score: 0.4220726154953954\n",
      "[2024-07-26 09:54:41] Features: 3/19 -- score: 0.5765331982466577\n",
      "[2024-07-26 09:55:22] Features: 4/19 -- score: 0.623949584845233\n",
      "[2024-07-26 09:56:02] Features: 5/19 -- score: 0.6516358179604785\n",
      "[2024-07-26 09:56:56] Features: 6/19 -- score: 0.6626550158392714\n",
      "[2024-07-26 09:57:23] Features: 7/19 -- score: 0.7365166966759648\n",
      "[2024-07-26 09:58:04] Features: 8/19 -- score: 0.7948174207609834\n",
      "[2024-07-26 09:58:45] Features: 9/19 -- score: 0.804334197354321\n",
      "[2024-07-26 09:59:26] Features: 10/19 -- score: 0.804334197354321\n",
      "[2024-07-26 10:00:06] Features: 11/19 -- score: 0.8043036212839862\n",
      "[2024-07-26 10:00:44] Features: 12/19 -- score: 0.80524396203364\n",
      "[2024-07-26 10:01:19] Features: 13/19 -- score: 0.8029602268374475\n",
      "[2024-07-26 10:02:03] Features: 14/19 -- score: 0.8045730508613071\n",
      "[2024-07-26 10:02:17] Features: 15/19 -- score: 0.8056417463137108\n",
      "[2024-07-26 10:02:41] Features: 16/19 -- score: 0.7944077871772399\n",
      "[2024-07-26 10:03:00] Features: 17/19 -- score: 0.7960812243354946\n",
      "[2024-07-26 10:03:13] Features: 18/19 -- score: 0.7979990711844432\n",
      "[2024-07-26 10:03:20] Features: 19/19 -- score: 0.7899749325397661"
     ]
    },
    {
     "data": {
      "text/plain": [
       "['../../_artifacts/ohe_quantiletransform_lgbm.joblib']"
      ]
     },
     "execution_count": 19,
     "metadata": {},
     "output_type": "execute_result"
    }
   ],
   "source": [
    "#\n",
    "## warnings\n",
    "from warnings import simplefilter\n",
    "simplefilter(action='ignore')\n",
    "\n",
    "## transformers\n",
    "transformers = SFS_OSP(\n",
    "    ohe=OneHotEncoder(drop='first', sparse_output=False), \n",
    "    scaling=[('scaling', QuantileTransformer(output_distribution='normal'))]\n",
    ")\n",
    "\n",
    "## base model\n",
    "base_model = get_selected_base_models(\n",
    "    names_to_choose=['LGBM']\n",
    ")\n",
    "\n",
    "## pipeline\n",
    "pipeline = Pipeline(\n",
    "    steps=[('transformers', transformers)] + base_model\n",
    ")\n",
    "\n",
    "## sfs: forward\n",
    "sfs = SequentialFeatureSelector(\n",
    "    estimator=pipeline, \n",
    "    k_features='best', forward=True, \n",
    "    cv=RepeatedStratifiedKFold(n_splits=10, n_repeats=3, random_state=7), \n",
    "    scoring=make_scorer(fbeta_score, beta=2), \n",
    "    verbose=2\n",
    ")\n",
    "sfs.fit(X_train, y_train)\n",
    "\n",
    "joblib.dump(\n",
    "    value=sfs, \n",
    "    filename=artifacts_path['feature_selector']\n",
    ")\n",
    "\n",
    "##\n",
    "pipeline.fit(sfs.transform(X_train), y_train)\n",
    "joblib.dump(\n",
    "    value=pipeline, \n",
    "    filename=artifacts_path['model']\n",
    ")"
   ]
  },
  {
   "cell_type": "code",
   "execution_count": 21,
   "metadata": {},
   "outputs": [],
   "source": [
    "# mlflow\n",
    "##\n",
    "val_predictions = pipeline.predict(sfs.transform(X_test))\n",
    "val_fbeta = fbeta_score(\n",
    "    y_true=y_test, y_pred=val_predictions, \n",
    "    beta=2\n",
    ")\n",
    "\n",
    "##\n",
    "with mlflow.start_run():\n",
    "    ###\n",
    "    mlflow.set_tags(\n",
    "        {\n",
    "            'pipeline': 'OneHot && Scaling(quantile transform)', \n",
    "            'base_model': 'LGBM', \n",
    "            'feature_selection': 'true'\n",
    "        }\n",
    "    )\n",
    "\n",
    "    ###\n",
    "    mlflow.log_metrics(\n",
    "        {\n",
    "            'avg_fbeta': sfs.k_score_, \n",
    "            'val_fbeta': val_fbeta\n",
    "        }\n",
    "    )\n",
    "\n",
    "    ###\n",
    "    mlflow.pyfunc.log_model(\n",
    "        artifact_path='LGBM', \n",
    "        python_model=MLflowModel(), \n",
    "        artifacts=artifacts_path, \n",
    "        signature=infer_signature(X_train), \n",
    "        pip_requirements=['joblib', 'mlxtend', 'scikit-learn']\n",
    "    )"
   ]
  },
  {
   "cell_type": "markdown",
   "metadata": {},
   "source": [
    "# 3. Encoding && Scaling && PCA"
   ]
  },
  {
   "cell_type": "markdown",
   "metadata": {},
   "source": [
    "<b>OneHot && QuantileTransform && PCA(90%)"
   ]
  },
  {
   "cell_type": "code",
   "execution_count": 28,
   "metadata": {},
   "outputs": [],
   "source": [
    "# artifacts' path\n",
    "artifacts_path['feature_selector'] = '../../_artifacts/ohe_quantiletransform_pca.joblib'\n",
    "artifacts_path['model'] = '../../_artifacts/ohe_quantiletransform_pca_lgbm.joblib'"
   ]
  },
  {
   "cell_type": "code",
   "execution_count": 30,
   "metadata": {},
   "outputs": [
    {
     "name": "stderr",
     "output_type": "stream",
     "text": [
      "\n",
      "[2024-07-26 10:32:08] Features: 1/19 -- score: 0.23651254705174793\n",
      "[2024-07-26 10:32:38] Features: 2/19 -- score: 0.40588183110059217\n",
      "[2024-07-26 10:33:12] Features: 3/19 -- score: 0.5457852406831913\n",
      "[2024-07-26 10:33:48] Features: 4/19 -- score: 0.6007576151755125\n",
      "[2024-07-26 10:34:24] Features: 5/19 -- score: 0.6201483829446932\n",
      "[2024-07-26 10:35:00] Features: 6/19 -- score: 0.648909468722092\n",
      "[2024-07-26 10:35:37] Features: 7/19 -- score: 0.6787024518104643\n",
      "[2024-07-26 10:36:16] Features: 8/19 -- score: 0.6831594533511679\n",
      "[2024-07-26 10:36:53] Features: 9/19 -- score: 0.7182931025993571\n",
      "[2024-07-26 10:37:32] Features: 10/19 -- score: 0.7180892090239053\n",
      "[2024-07-26 10:38:20] Features: 11/19 -- score: 0.7106651408595411\n",
      "[2024-07-26 10:38:41] Features: 12/19 -- score: 0.7145689716125239\n",
      "[2024-07-26 10:39:15] Features: 13/19 -- score: 0.7120427665208019\n",
      "[2024-07-26 10:39:45] Features: 14/19 -- score: 0.6374091794970835\n",
      "[2024-07-26 10:40:12] Features: 15/19 -- score: 0.6286493388232757\n",
      "[2024-07-26 10:40:34] Features: 16/19 -- score: 0.614964622114005\n",
      "[2024-07-26 10:40:58] Features: 17/19 -- score: 0.6012505716643151\n",
      "[2024-07-26 10:41:15] Features: 18/19 -- score: 0.585768855986563\n",
      "[2024-07-26 10:41:24] Features: 19/19 -- score: 0.579655502407915"
     ]
    },
    {
     "data": {
      "text/plain": [
       "['../../_artifacts/ohe_quantiletransform_pca_lgbm.joblib']"
      ]
     },
     "execution_count": 30,
     "metadata": {},
     "output_type": "execute_result"
    }
   ],
   "source": [
    "#\n",
    "## warnings\n",
    "from warnings import simplefilter\n",
    "simplefilter(action='ignore')\n",
    "\n",
    "##\n",
    "transformers = SFS_OSP(\n",
    "    ohe=OneHotEncoder(drop='first', sparse_output=False), \n",
    "    scaling=[('scaling', QuantileTransformer())], factor_analysis=[('pca', PCA(n_components=0.9))]\n",
    ")\n",
    "\n",
    "##\n",
    "base_model = get_selected_base_models(\n",
    "    names_to_choose=['LGBM']\n",
    ")\n",
    "\n",
    "## \n",
    "pipeline = Pipeline(\n",
    "    steps=[('transformers', transformers)] + base_model\n",
    ")\n",
    "\n",
    "## sfs: forwanrd\n",
    "sfs = SequentialFeatureSelector(\n",
    "    estimator=pipeline, \n",
    "    k_features='best', forward=True, \n",
    "    cv=RepeatedStratifiedKFold(n_splits=10, n_repeats=3, random_state=7), \n",
    "    scoring=make_scorer(fbeta_score, beta=2), \n",
    "    verbose=2\n",
    ")\n",
    "sfs.fit(X_train, y_train)\n",
    "joblib.dump(\n",
    "    value=sfs, \n",
    "    filename=artifacts_path['feature_selector']\n",
    ")\n",
    "\n",
    "##\n",
    "pipeline.fit(sfs.transform(X_train), y_train)\n",
    "joblib.dump(\n",
    "    value=pipeline, \n",
    "    filename=artifacts_path['model']\n",
    ")"
   ]
  },
  {
   "cell_type": "code",
   "execution_count": 31,
   "metadata": {},
   "outputs": [],
   "source": [
    "# mlflow\n",
    "##\n",
    "val_predictions = pipeline.predict(sfs.transform(X_test))\n",
    "val_fbeta = fbeta_score(\n",
    "    y_true=y_test, y_pred=val_predictions, \n",
    "    beta=2\n",
    ")\n",
    "\n",
    "##\n",
    "with mlflow.start_run():\n",
    "    ##\n",
    "    mlflow.set_tags(\n",
    "        {\n",
    "            'pipeline': 'ohe_quantiletransform_pca(90%)', \n",
    "            'base_model': 'LGBM', \n",
    "            'feature_selection': 'true', \n",
    "            'pca': '90%'\n",
    "        }\n",
    "    )\n",
    "\n",
    "    ##\n",
    "    mlflow.log_metrics(\n",
    "        {\n",
    "            'avg_fbeta': sfs.k_score_, \n",
    "            'val_fbeta': val_fbeta\n",
    "        }\n",
    "    )\n",
    "\n",
    "    ##\n",
    "    mlflow.pyfunc.log_model(\n",
    "        artifact_path='LGBM', \n",
    "        python_model=MLflowModel(), \n",
    "        artifacts=artifacts_path, \n",
    "        signature=infer_signature(X_train), \n",
    "        pip_requirements=['joblib', 'mlxtend', 'scikit-learn']\n",
    "    )"
   ]
  },
  {
   "cell_type": "markdown",
   "metadata": {},
   "source": [
    "# 4. Encoding && Scaling && Resampling"
   ]
  },
  {
   "cell_type": "markdown",
   "metadata": {},
   "source": [
    "<b>OneHot && QuantileTransform && RandomOverSampling</b>"
   ]
  },
  {
   "cell_type": "code",
   "execution_count": 28,
   "metadata": {},
   "outputs": [],
   "source": [
    "# artifacts' path\n",
    "artifacts_path['feature_selector'] = '../../_artifacts/ohe_quantiletransform.joblib'\n",
    "artifacts_path['model'] = '../../_artifacts/ohe_quantiletransform_ros_lgbm.joblib'"
   ]
  },
  {
   "cell_type": "code",
   "execution_count": 30,
   "metadata": {},
   "outputs": [
    {
     "name": "stdout",
     "output_type": "stream",
     "text": [
      "ROS: 0.8255052774354766 (0.04609514196870448)\n"
     ]
    },
    {
     "data": {
      "text/plain": [
       "['../../_artifacts/ohe_quantiletransform_ros_lgbm.joblib']"
      ]
     },
     "execution_count": 30,
     "metadata": {},
     "output_type": "execute_result"
    }
   ],
   "source": [
    "#\n",
    "##\n",
    "sfs = joblib.load(\n",
    "    filename=artifacts_path['feature_selector']\n",
    ")\n",
    "selected_X_train = sfs.transform(X_train)\n",
    "\n",
    "## transformers \n",
    "transformers = SFS_OSP(\n",
    "    ohe=OneHotEncoder(drop='first', sparse_output=False), \n",
    "    scaling=[('scaling', QuantileTransformer(output_distribution='normal'))]\n",
    ")\n",
    "\n",
    "## resamplers\n",
    "resampler = [('ROS', RandomOverSampler(sampling_strategy='auto'))]\n",
    "\n",
    "## base model\n",
    "base_model = get_selected_base_models(\n",
    "    names_to_choose=['LGBM']\n",
    ")\n",
    "\n",
    "## pipeline\n",
    "pipeline = Pipeline(\n",
    "    steps=[('transformers', transformers)] + resampler + base_model\n",
    ")\n",
    "\n",
    "## kfold result\n",
    "kfold_result = cross_val_score(\n",
    "    estimator=pipeline, \n",
    "    X=selected_X_train, y=y_train, \n",
    "    cv=RepeatedStratifiedKFold(n_splits=10, n_repeats=3, random_state=7), \n",
    "    scoring=make_scorer(fbeta_score, beta=2)\n",
    ")\n",
    "print(f'ROS: {kfold_result.mean()} ({kfold_result.std()})')\n",
    "\n",
    "##\n",
    "pipeline.fit(selected_X_train, y_train)\n",
    "joblib.dump(\n",
    "    value=pipeline, \n",
    "    filename=artifacts_path['model']\n",
    ")"
   ]
  },
  {
   "cell_type": "code",
   "execution_count": 32,
   "metadata": {},
   "outputs": [],
   "source": [
    "# mlflow\n",
    "##\n",
    "val_predictions = pipeline.predict(sfs.transform(X_test))\n",
    "val_fbeta = fbeta_score(\n",
    "    y_true=y_test, y_pred=val_predictions, \n",
    "    beta=2\n",
    ")\n",
    "\n",
    "##\n",
    "with mlflow.start_run():\n",
    "    ###\n",
    "    mlflow.set_tags(\n",
    "        {\n",
    "            'pipeline': 'ohe_quantiletransform_ros', \n",
    "            'base_model': 'LGBM', \n",
    "            'feature_selection': 'true',\n",
    "            'resampling': 'ros'\n",
    "        }\n",
    "    )\n",
    "\n",
    "    ###\n",
    "    mlflow.log_metrics(\n",
    "        {\n",
    "            'avg_fbeta': kfold_result.mean(), \n",
    "            'val_fbeta': val_fbeta\n",
    "        }\n",
    "    )\n",
    "\n",
    "    ###\n",
    "    mlflow.pyfunc.log_model(\n",
    "        artifact_path='LGBM', \n",
    "        python_model=MLflowModel(), \n",
    "        artifacts=artifacts_path, \n",
    "        signature=infer_signature(X_train), \n",
    "        pip_requirements=['joblib', 'mlxtend', 'scikit-learn']\n",
    "    )"
   ]
  },
  {
   "cell_type": "markdown",
   "metadata": {},
   "source": [
    "<b>OneHot && QuantileTransform && SMOTE</b>"
   ]
  },
  {
   "cell_type": "code",
   "execution_count": 4,
   "metadata": {},
   "outputs": [],
   "source": [
    "# artifacts' path\n",
    "artifacts_path['feature_selector'] = '../../_artifacts/ohe_quantiletransform.joblib'\n",
    "artifacts_path['model'] = '../../_artifacts/ohe_quantiletransform_smote_lgbm.joblib'"
   ]
  },
  {
   "cell_type": "code",
   "execution_count": 22,
   "metadata": {},
   "outputs": [
    {
     "name": "stdout",
     "output_type": "stream",
     "text": [
      "LGBM: 0.8116760496895696 (0.06306210112960636)\n"
     ]
    },
    {
     "data": {
      "text/plain": [
       "['../../_artifacts/ohe_quantiletransform_smote_lgbm.joblib']"
      ]
     },
     "execution_count": 22,
     "metadata": {},
     "output_type": "execute_result"
    }
   ],
   "source": [
    "#\n",
    "##\n",
    "sfs = joblib.load(\n",
    "    filename=artifacts_path['feature_selector']\n",
    ")\n",
    "selected_X_train = sfs.transform(X_train)\n",
    "\n",
    "## transformers\n",
    "transformers = SFS_OSP(\n",
    "    ohe=OneHotEncoder(drop='first', sparse_output=False), \n",
    "    scaling=[('scaling', QuantileTransformer(output_distribution='normal'))]\n",
    ")\n",
    "\n",
    "## resampler\n",
    "resampler = [('SMOTE', SMOTE(sampling_strategy='auto'))]\n",
    "\n",
    "## base model\n",
    "base_model = get_selected_base_models(\n",
    "    names_to_choose=['LGBM']\n",
    ")\n",
    "\n",
    "## pipeline\n",
    "pipeline = Pipeline(\n",
    "    steps=[('transformers', transformers)] + resampler + base_model\n",
    ")\n",
    "kfold_result = cross_val_score(\n",
    "    estimator=pipeline, \n",
    "    X=selected_X_train, y=y_train, \n",
    "    cv=RepeatedStratifiedKFold(n_splits=10, n_repeats=3, random_state=7), \n",
    "    scoring=make_scorer(fbeta_score, beta=2)\n",
    ")\n",
    "print(f'LGBM: {kfold_result.mean()} ({kfold_result.std()})')\n",
    "\n",
    "##\n",
    "pipeline.fit(selected_X_train, y_train)\n",
    "joblib.dump(\n",
    "    value=pipeline, \n",
    "    filename=artifacts_path['model']\n",
    ")"
   ]
  },
  {
   "cell_type": "code",
   "execution_count": 24,
   "metadata": {},
   "outputs": [],
   "source": [
    "# mlflow\n",
    "##\n",
    "val_predictions = pipeline.predict(sfs.transform(X_test))\n",
    "val_fbeta = fbeta_score(\n",
    "    y_true=y_test, y_pred=val_predictions, \n",
    "    beta=2\n",
    ")\n",
    "\n",
    "##\n",
    "with mlflow.start_run():\n",
    "    ###\n",
    "    mlflow.set_tags(\n",
    "        {\n",
    "            'pipeline': 'ohe_quantiletransform_smote', \n",
    "            'base_model': 'LGBM', \n",
    "            'feature_selection': 'true', \n",
    "            'resampling': 'smote'\n",
    "        }\n",
    "    )\n",
    "\n",
    "    ###\n",
    "    mlflow.log_metrics(\n",
    "        {\n",
    "            'avg_fbeta': kfold_result.mean(), \n",
    "            'val_fbeta': val_fbeta\n",
    "        }\n",
    "    )\n",
    "\n",
    "    ###\n",
    "    mlflow.pyfunc.log_model(\n",
    "        artifact_path='LGBM', \n",
    "        python_model=MLflowModel(), \n",
    "        artifacts=artifacts_path, \n",
    "        signature=infer_signature(X_train), \n",
    "        pip_requirements=['joblib', 'mlxtend', 'scikit-learn']\n",
    "    )"
   ]
  }
 ],
 "metadata": {
  "kernelspec": {
   "display_name": "mlops_lab",
   "language": "python",
   "name": "python3"
  },
  "language_info": {
   "codemirror_mode": {
    "name": "ipython",
    "version": 3
   },
   "file_extension": ".py",
   "mimetype": "text/x-python",
   "name": "python",
   "nbconvert_exporter": "python",
   "pygments_lexer": "ipython3",
   "version": "3.11.9"
  }
 },
 "nbformat": 4,
 "nbformat_minor": 2
}
