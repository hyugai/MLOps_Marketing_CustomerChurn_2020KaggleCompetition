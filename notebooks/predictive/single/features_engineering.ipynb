{
 "cells": [
  {
   "cell_type": "markdown",
   "metadata": {},
   "source": [
    "# Preparation"
   ]
  },
  {
   "cell_type": "markdown",
   "metadata": {},
   "source": [
    "<b>Load Libraries</b>"
   ]
  },
  {
   "cell_type": "code",
   "execution_count": 44,
   "metadata": {},
   "outputs": [],
   "source": [
    "# data structures\n",
    "import numpy as np\n",
    "import pandas as pd\n",
    "\n",
    "# visualization\n",
    "import matplotlib.pyplot as plt\n",
    "import seaborn as sns\n",
    "## settings\n",
    "plt.rcParams['figure.figsize'] = (10, 6)\n",
    "sns.set_theme('notebook')\n",
    "\n",
    "# models selection\n",
    "from sklearn.model_selection import train_test_split, RepeatedStratifiedKFold, cross_val_score\n",
    "\n",
    "# metrics\n",
    "from sklearn.metrics import fbeta_score, make_scorer, classification_report\n",
    "\n",
    "# pipeline\n",
    "from imblearn.pipeline import Pipeline\n",
    "\n",
    "# compose\n",
    "from sklearn.compose import ColumnTransformer\n",
    "\n",
    "# preprocessings\n",
    "from sklearn.preprocessing import StandardScaler, PowerTransformer, QuantileTransformer\n",
    "from sklearn.preprocessing import OneHotEncoder, LabelEncoder, TargetEncoder\n",
    "\n",
    "# features selection\n",
    "from mlxtend.feature_selection import SequentialFeatureSelector\n",
    "\n",
    "# resamplings\n",
    "from imblearn.over_sampling import RandomOverSampler, SMOTE\n",
    "from imblearn.combine import SMOTEENN, SMOTETomek\n",
    "\n",
    "# algorithms\n",
    "## linear_model\n",
    "from sklearn.linear_model import LogisticRegression\n",
    "## neighbors\n",
    "from sklearn.neighbors import KNeighborsClassifier\n",
    "## svm\n",
    "from sklearn.svm import SVC\n",
    "## tree\n",
    "from sklearn.tree import DecisionTreeClassifier\n",
    "## ensample\n",
    "from sklearn.ensemble import ExtraTreesClassifier, RandomForestClassifier, GradientBoostingClassifier\n",
    "from lightgbm import LGBMClassifier\n",
    "from xgboost import XGBClassifier\n",
    "\n",
    "# others\n",
    "import re"
   ]
  },
  {
   "cell_type": "markdown",
   "metadata": {},
   "source": [
    "<b>Load Dataset</b>"
   ]
  },
  {
   "cell_type": "code",
   "execution_count": 45,
   "metadata": {},
   "outputs": [],
   "source": [
    "# dataset\n",
    "df_base = pd.read_csv('../../../dataset/cleaned/train.csv')\n",
    "df_base['area_code'] = df_base['area_code'].astype(str)\n",
    "\n",
    "## \n",
    "num_cols = df_base.select_dtypes(np.number).columns.tolist()\n",
    "cat_cols = df_base.select_dtypes('object').columns.tolist()[0:-1]\n",
    "\n",
    "##\n",
    "num_idxes = [i for i, name in enumerate(df_base.columns.tolist()) if name in num_cols]\n",
    "cat_idxes = [i for i, name in enumerate(df_base.columns.tolist()) if name in cat_cols]"
   ]
  },
  {
   "cell_type": "code",
   "execution_count": 46,
   "metadata": {},
   "outputs": [],
   "source": [
    "# cross validation\n",
    "##\n",
    "arr = df_base.values\n",
    "le = LabelEncoder()\n",
    "\n",
    "##\n",
    "X, y = arr[:, :-1], le.fit_transform(arr[:, -1])\n",
    "X_train, X_test, y_train, y_test = train_test_split(X, y, test_size=0.3, stratify=y, random_state=5)"
   ]
  },
  {
   "cell_type": "markdown",
   "metadata": {},
   "source": [
    "<b>User-Defined Functions</b>"
   ]
  },
  {
   "cell_type": "code",
   "execution_count": 47,
   "metadata": {},
   "outputs": [],
   "source": [
    "# parsed names:\n",
    "def get_parsed_names(old_names: list, new_names: list) -> list:\n",
    "    parsed_names = []\n",
    "\n",
    "    for name in new_names:\n",
    "        eles = [ele for ele in re.split('_', name) if ele != '']\n",
    "        eles[1] = int(re.split('x', eles[1])[-1])\n",
    "\n",
    "        if name != 'remainder':\n",
    "            parsed_names.append(\n",
    "                f'{old_names[eles[1]]}_{eles[-1]}'\n",
    "            )\n",
    "        else:\n",
    "            parsed_names.append(f'{old_names[eles[1]]}')\n",
    "\n",
    "    return parsed_names"
   ]
  },
  {
   "cell_type": "code",
   "execution_count": 48,
   "metadata": {},
   "outputs": [],
   "source": [
    "# models\n",
    "def load_base_models() -> list:\n",
    "    models = []\n",
    "    models.append(('LR', LogisticRegression(n_jobs=-1)))\n",
    "    models.append(('KNN', KNeighborsClassifier(n_jobs=-1)))\n",
    "    models.append(('SVC', SVC()))\n",
    "    models.append(('CART', DecisionTreeClassifier()))\n",
    "    models.append(('ET', ExtraTreesClassifier(n_jobs=-1)))\n",
    "    models.append(('RF', RandomForestClassifier(n_jobs=-1)))\n",
    "    models.append(('GB', GradientBoostingClassifier()))\n",
    "    models.append(('LGBM', LGBMClassifier(verbose=-1, n_jobs=-1)))\n",
    "    models.append(('XGB', XGBClassifier(n_jobs=-1)))\n",
    "\n",
    "    return models "
   ]
  },
  {
   "cell_type": "code",
   "execution_count": 49,
   "metadata": {},
   "outputs": [],
   "source": [
    "# pipelines\n",
    "def get_pipelines(\n",
    "        models: list,\n",
    "        ohe: list=[], te: list=[],\n",
    "        scaling: list=[], pca: list=[], resampling: list=[], \n",
    ") -> list:\n",
    "    ## [<name>, <estimator>]\n",
    "    steps_num_pro = scaling + pca + resampling\n",
    "    num_pro = [('num_pro', Pipeline(steps_num_pro), num_idxes)]\n",
    "\n",
    "    ## [<name>, <estimator>, <idxes>]\n",
    "    cat_pro = ohe + te\n",
    "        \n",
    "    ##\n",
    "    if len(steps_num_pro) != 0:\n",
    "        transformers = num_pro + cat_pro\n",
    "    else:\n",
    "        transformers = cat_pro\n",
    "    ct = [('transform', ColumnTransformer(transformers, remainder='passthrough'))]\n",
    "\n",
    "    ##\n",
    "    pipelines = []\n",
    "    for name, model in models:\n",
    "        steps = ct + [(name, model)]\n",
    "        pipelines.append((name, Pipeline(steps)))\n",
    "        \n",
    "    return pipelines"
   ]
  },
  {
   "cell_type": "code",
   "execution_count": 50,
   "metadata": {},
   "outputs": [],
   "source": [
    "# kflold result\n",
    "def get_kfold_results(models: list, X: np.array, y: np.array) -> tuple[np.array, np.array]:\n",
    "    ##\n",
    "    names, results = [], []\n",
    "    cv = RepeatedStratifiedKFold(\n",
    "        n_splits=10, n_repeats=3, \n",
    "        random_state=7\n",
    "    )\n",
    "    scoring = make_scorer(fbeta_score, beta=2)\n",
    "\n",
    "    ##\n",
    "    for name, model in models:\n",
    "        cv_results = cross_val_score(\n",
    "            estimator=model, \n",
    "            X=X, y=y, \n",
    "            cv=cv, scoring=scoring\n",
    "        )\n",
    "\n",
    "        print(f'{name}: {cv_results.mean()} ({cv_results.std()})')\n",
    "        names.append(name); results.append(cv_results)\n",
    "\n",
    "    return names, results"
   ]
  },
  {
   "cell_type": "code",
   "execution_count": 51,
   "metadata": {},
   "outputs": [],
   "source": [
    "# kfold visualization\n",
    "def plot_kfold_results(names: list, results: list):\n",
    "    data_to_plot = dict()\n",
    "    for name, result in zip(names, results):\n",
    "        data_to_plot[name] = result\n",
    "    \n",
    "    ##\n",
    "    data_to_plot = pd.DataFrame(\n",
    "        data=data_to_plot\n",
    "    )\n",
    "\n",
    "    new_idxes = data_to_plot.mean(axis=0)\\\n",
    "        .sort_values(ascending=False)\\\n",
    "            .index.tolist()\n",
    "    data_to_plot = data_to_plot.reindex(\n",
    "        labels=new_idxes, \n",
    "        axis=1\n",
    "    )\n",
    "\n",
    "    ##\n",
    "    g = sns.boxplot(\n",
    "        data_to_plot, \n",
    "        fill=False, \n",
    "        showmeans=True\n",
    "    )\n",
    "    for i in range(3):\n",
    "        g.get_xticklabels()[i].set_fontweight('bold')\n",
    "        g.get_xticklabels()[i].set_color('r')"
   ]
  },
  {
   "cell_type": "markdown",
   "metadata": {},
   "source": [
    "<b>User-Defined Classes</b>"
   ]
  },
  {
   "cell_type": "markdown",
   "metadata": {},
   "source": [
    "# 1. Base Evaluation"
   ]
  },
  {
   "cell_type": "code",
   "execution_count": 41,
   "metadata": {},
   "outputs": [
    {
     "name": "stdout",
     "output_type": "stream",
     "text": [
      "LR: 0.13228050685782308 (0.0541376961381269)\n",
      "KNN: 0.3590482148333225 (0.08163408925075537)\n",
      "SVC: 0.0 (0.0)\n",
      "CART: 0.7269689642903607 (0.05921149034748127)\n",
      "ET: 0.49688452859881627 (0.07439066065239291)\n",
      "RF: 0.6706551829221968 (0.08997135908706244)\n",
      "GB: 0.7622073545759752 (0.05636917385552078)\n",
      "LGBM: 0.7904782196037831 (0.052733861062937704)\n",
      "XGB: 0.7788322510027165 (0.056953790262783334)\n"
     ]
    }
   ],
   "source": [
    "#\n",
    "## filter out warning\n",
    "from warnings import simplefilter\n",
    "simplefilter(action='ignore')\n",
    "\n",
    "# base models\n",
    "models = load_base_models()\n",
    "\n",
    "## encoding\n",
    "encoding = [('ohe', OneHotEncoder(drop='first', sparse_output=False), cat_idxes)]\n",
    "\n",
    "## pipelines\n",
    "pipelines = get_pipelines(\n",
    "    models=models, \n",
    "    ohe=encoding\n",
    ")\n",
    "\n",
    "## kfold results\n",
    "names, results = get_kfold_results(\n",
    "    models=pipelines, \n",
    "    X=X_train, y=y_train\n",
    ")"
   ]
  },
  {
   "cell_type": "code",
   "execution_count": 45,
   "metadata": {},
   "outputs": [
    {
     "data": {
      "image/png": "[encoded data removed]",
      "text/plain": [
       "<Figure size 1000x600 with 1 Axes>"
      ]
     },
     "metadata": {},
     "output_type": "display_data"
    }
   ],
   "source": [
    "# visualizations\n",
    "plot_kfold_results(\n",
    "    names=names, results=results\n",
    ")"
   ]
  },
  {
   "cell_type": "markdown",
   "metadata": {},
   "source": [
    "# 2. Encoding"
   ]
  },
  {
   "cell_type": "markdown",
   "metadata": {},
   "source": [
    "<b>Target encoding</b>"
   ]
  },
  {
   "cell_type": "code",
   "execution_count": 52,
   "metadata": {},
   "outputs": [
    {
     "name": "stdout",
     "output_type": "stream",
     "text": [
      "LR: 0.122258133034202 (0.05314324980784068)\n",
      "KNN: 0.3590482148333225 (0.08163408925075537)\n",
      "SVC: 0.011834319526627217 (0.014494022146646022)\n",
      "CART: 0.727417074664632 (0.05870436591163995)\n",
      "ET: 0.6030772947768999 (0.07634951455265143)\n",
      "RF: 0.7532966082500591 (0.06150737703253661)\n",
      "GB: 0.7630789805268205 (0.060332052267319164)\n",
      "LGBM: 0.787906466286732 (0.057814076672830395)\n",
      "XGB: 0.7809809716689321 (0.06386638505608619)\n"
     ]
    }
   ],
   "source": [
    "## filter out warning\n",
    "from warnings import simplefilter\n",
    "simplefilter(action='ignore')\n",
    "\n",
    "ohe_idxes, te_idxes = [2, 3, 4], [0]\n",
    "ohe = [('ohe', OneHotEncoder(drop='first', sparse_output=False), ohe_idxes)]\n",
    "te = [('te', TargetEncoder(), te_idxes)]\n",
    "\n",
    "models = load_base_models()\n",
    "\n",
    "pipelines = get_pipelines(\n",
    "    models=models, \n",
    "    ohe=ohe, te=te\n",
    ")\n",
    "\n",
    "names, results = get_kfold_results(\n",
    "    models=pipelines,\n",
    "    X=X_train, y=y_train\n",
    ")"
   ]
  },
  {
   "cell_type": "markdown",
   "metadata": {},
   "source": [
    "# 3. Scaling"
   ]
  },
  {
   "cell_type": "markdown",
   "metadata": {},
   "source": [
    "<b>Standardization</b>"
   ]
  },
  {
   "cell_type": "code",
   "execution_count": 23,
   "metadata": {},
   "outputs": [
    {
     "name": "stdout",
     "output_type": "stream",
     "text": [
      "LR: 0.2633537414257196 (0.06682514240928088)\n",
      "KNN: 0.2997164925103952 (0.07652137167794573)\n",
      "SVC: 0.4734928194957293 (0.08257488891987776)\n",
      "CART: 0.7255786178088589 (0.055841621860836896)\n",
      "ET: 0.4950644419239381 (0.0807974936864217)\n",
      "RF: 0.6525110743299113 (0.07325585971477383)\n",
      "GB: 0.7641028165973974 (0.057845416388528616)\n",
      "LGBM: 0.7866142783049318 (0.05833958702772003)\n",
      "XGB: 0.7802592983277485 (0.05482675914198851)\n"
     ]
    }
   ],
   "source": [
    "#\n",
    "## filter out warnings\n",
    "from warnings import simplefilter\n",
    "simplefilter(action='ignore')\n",
    "\n",
    "## base models\n",
    "models = load_base_models()\n",
    "\n",
    "## encoding\n",
    "encoding = [('ohe', OneHotEncoder(drop='first', sparse_output=False), cat_idxes)]\n",
    "\n",
    "## scaling\n",
    "scaling = [('standardize', StandardScaler())]\n",
    "\n",
    "## pipelines\n",
    "pipelines = get_pipelines(\n",
    "    models=models, \n",
    "    ohe=encoding, \n",
    "    scaling=scaling\n",
    ")\n",
    "\n",
    "## kfold results\n",
    "names, results = get_kfold_results(\n",
    "    models=pipelines, \n",
    "    X=X_train, y=y_train\n",
    ")"
   ]
  },
  {
   "cell_type": "code",
   "execution_count": 24,
   "metadata": {},
   "outputs": [
    {
     "data": {
      "image/png": "[encoded data removed]",
      "text/plain": [
       "<Figure size 1000x600 with 1 Axes>"
      ]
     },
     "metadata": {},
     "output_type": "display_data"
    }
   ],
   "source": [
    "# visualization\n",
    "plot_kfold_results(\n",
    "    names=names, results=results\n",
    ")"
   ]
  },
  {
   "cell_type": "markdown",
   "metadata": {},
   "source": [
    "<b>Power transformation</b>"
   ]
  },
  {
   "cell_type": "markdown",
   "metadata": {},
   "source": [
    "# 4.1 Feature Selection without \"PCA\""
   ]
  },
  {
   "cell_type": "markdown",
   "metadata": {},
   "source": [
    "<b>Sequential feature selection</b>"
   ]
  },
  {
   "cell_type": "markdown",
   "metadata": {},
   "source": [
    "<b>RFE</b>"
   ]
  },
  {
   "cell_type": "markdown",
   "metadata": {},
   "source": [
    "# 4.2 Feature Selection with \"PCA\""
   ]
  },
  {
   "cell_type": "markdown",
   "metadata": {},
   "source": [
    "<b>Sequential feature selection</b>"
   ]
  },
  {
   "cell_type": "markdown",
   "metadata": {},
   "source": [
    "<b>RFE</b>"
   ]
  },
  {
   "cell_type": "markdown",
   "metadata": {},
   "source": [
    "# 4. Resampling"
   ]
  },
  {
   "cell_type": "markdown",
   "metadata": {},
   "source": [
    "<b>Over sampling</b>"
   ]
  },
  {
   "cell_type": "markdown",
   "metadata": {},
   "source": [
    "<b>Combine</b>"
   ]
  }
 ],
 "metadata": {
  "kernelspec": {
   "display_name": "mlops_lab",
   "language": "python",
   "name": "python3"
  },
  "language_info": {
   "codemirror_mode": {
    "name": "ipython",
    "version": 3
   },
   "file_extension": ".py",
   "mimetype": "text/x-python",
   "name": "python",
   "nbconvert_exporter": "python",
   "pygments_lexer": "ipython3",
   "version": "3.11.9"
  }
 },
 "nbformat": 4,
 "nbformat_minor": 2
}
