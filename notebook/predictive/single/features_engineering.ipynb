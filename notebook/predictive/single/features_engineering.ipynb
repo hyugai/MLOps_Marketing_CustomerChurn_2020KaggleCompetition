{
 "cells": [
  {
   "cell_type": "markdown",
   "metadata": {},
   "source": [
    "# Preparation"
   ]
  },
  {
   "cell_type": "markdown",
   "metadata": {},
   "source": [
    "<b>Load Libraries</b>"
   ]
  },
  {
   "cell_type": "code",
   "execution_count": 1,
   "metadata": {},
   "outputs": [],
   "source": [
    "# data structures\n",
    "import numpy as np\n",
    "import pandas as pd\n",
    "\n",
    "# visualization\n",
    "import matplotlib.pyplot as plt\n",
    "import seaborn as sns\n",
    "## settings\n",
    "plt.rcParams['figure.figsize'] = (10, 6)\n",
    "sns.set_theme('notebook')\n",
    "\n",
    "# models selection\n",
    "from sklearn.model_selection import train_test_split, RepeatedStratifiedKFold, cross_val_score\n",
    "\n",
    "# metrics\n",
    "from sklearn.metrics import fbeta_score, make_scorer, classification_report, confusion_matrix\n",
    "\n",
    "# pipeline\n",
    "from imblearn.pipeline import Pipeline\n",
    "\n",
    "# compose\n",
    "from sklearn.compose import ColumnTransformer\n",
    "\n",
    "# preprocessings\n",
    "from sklearn.preprocessing import StandardScaler, PowerTransformer, QuantileTransformer\n",
    "from sklearn.preprocessing import OneHotEncoder, LabelEncoder, TargetEncoder\n",
    "from category_encoders.cat_boost import CatBoostEncoder\n",
    "\n",
    "# decomposition\n",
    "from sklearn.decomposition import PCA\n",
    "\n",
    "# features selection\n",
    "from mlxtend.feature_selection import SequentialFeatureSelector\n",
    "\n",
    "# resamplings\n",
    "from imblearn.over_sampling import RandomOverSampler, SMOTE\n",
    "from imblearn.under_sampling import RandomUnderSampler, EditedNearestNeighbours, TomekLinks\n",
    "from imblearn.combine import SMOTEENN, SMOTETomek\n",
    "\n",
    "# algorithms\n",
    "## linear_model\n",
    "from sklearn.linear_model import LogisticRegression\n",
    "## neighbors\n",
    "from sklearn.neighbors import KNeighborsClassifier\n",
    "## svm\n",
    "from sklearn.svm import SVC\n",
    "## tree\n",
    "from sklearn.tree import DecisionTreeClassifier\n",
    "## ensample\n",
    "from sklearn.ensemble import ExtraTreesClassifier, RandomForestClassifier, GradientBoostingClassifier\n",
    "from lightgbm import LGBMClassifier\n",
    "from xgboost import XGBClassifier\n",
    "\n",
    "# mlflow\n",
    "import mlflow\n",
    "from mlflow.models import infer_signature\n",
    "\n",
    "# others\n",
    "import re, joblib, os\n",
    "import pickle\n",
    "from sklearn.base import BaseEstimator, TransformerMixin"
   ]
  },
  {
   "cell_type": "code",
   "execution_count": 2,
   "metadata": {},
   "outputs": [],
   "source": [
    "# user-defined modules\n",
    "##\n",
    "cwd = os.getcwd()\n",
    "os.chdir('../../../')\n",
    "\n",
    "##\n",
    "from src.mlflow.mlflow_usr_defined import MLflowModel\n",
    "\n",
    "##\n",
    "os.chdir(cwd)"
   ]
  },
  {
   "cell_type": "code",
   "execution_count": 3,
   "metadata": {},
   "outputs": [],
   "source": [
    "# model's type separation\n",
    "parametric_models = ['LR']\n",
    "non_parametric_models = ['KNN', 'SVM', 'CART']\n",
    "ensample_models = ['ET', 'RF', 'GB', 'LGBM', 'XGB']"
   ]
  },
  {
   "cell_type": "markdown",
   "metadata": {},
   "source": [
    "<b>Load Dataset</b>"
   ]
  },
  {
   "cell_type": "code",
   "execution_count": 4,
   "metadata": {},
   "outputs": [],
   "source": [
    "# dataset\n",
    "df_base = pd.read_csv('../../../storage/data/cleaned/train.csv')\n",
    "\n",
    "## \n",
    "num_cols = df_base.select_dtypes(np.number).columns.tolist()\n",
    "cat_cols = df_base.select_dtypes('object').columns.tolist()[0:-1]\n",
    "\n",
    "##\n",
    "num_idxes = [i for i, name in enumerate(df_base.columns.tolist()) if name in num_cols]\n",
    "cat_idxes = [i for i, name in enumerate(df_base.columns.tolist()) if name in cat_cols]"
   ]
  },
  {
   "cell_type": "code",
   "execution_count": 5,
   "metadata": {},
   "outputs": [],
   "source": [
    "# cross validation\n",
    "##\n",
    "arr = df_base.values\n",
    "le = LabelEncoder()\n",
    "\n",
    "##\n",
    "X, y = arr[:, :-1], le.fit_transform(arr[:, -1])\n",
    "X_train, X_test, y_train, y_test = train_test_split(X, y, test_size=0.3, stratify=y, random_state=5)"
   ]
  },
  {
   "cell_type": "markdown",
   "metadata": {},
   "source": [
    "<b>MLflow</b>"
   ]
  },
  {
   "cell_type": "code",
   "execution_count": 6,
   "metadata": {},
   "outputs": [],
   "source": [
    "# server connection\n",
    "mlflow.set_tracking_uri('http://127.0.0.1:5000')"
   ]
  },
  {
   "cell_type": "code",
   "execution_count": 7,
   "metadata": {},
   "outputs": [
    {
     "name": "stdout",
     "output_type": "stream",
     "text": [
      "'Features Engineering' has already existed.\n"
     ]
    }
   ],
   "source": [
    "# experiment creation & conneting\n",
    "experiment_name = 'Features Engineering'\n",
    "try:\n",
    "    mlflow.create_experiment(\n",
    "        name=experiment_name, \n",
    "        artifact_location='storage/.mlflow/.artifact_store'\n",
    "    )\n",
    "    mlflow.set_experiment(\n",
    "        experiment_name=experiment_name\n",
    "    )\n",
    "except:\n",
    "    print(f'\\'{experiment_name}\\' has already existed.')\n",
    "    mlflow.set_experiment(\n",
    "        experiment_name=experiment_name\n",
    "    )"
   ]
  },
  {
   "cell_type": "markdown",
   "metadata": {},
   "source": [
    "<b>User-Defined Functions</b>"
   ]
  },
  {
   "cell_type": "code",
   "execution_count": 8,
   "metadata": {},
   "outputs": [],
   "source": [
    "# parsed names\n",
    "def get_parsed_names(old_names: list, new_names: list) -> list:\n",
    "    parsed_names = []\n",
    "\n",
    "    for name in new_names:\n",
    "        eles = [ele for ele in re.split('_', name) if ele != '']\n",
    "        eles[1] = int(re.split('x', eles[1])[-1])\n",
    "\n",
    "        if name != 'remainder':\n",
    "            parsed_names.append(\n",
    "                f'{old_names[eles[1]]}_{eles[-1]}'\n",
    "            )\n",
    "        else:\n",
    "            parsed_names.append(f'{old_names[eles[1]]}')\n",
    "\n",
    "    return parsed_names"
   ]
  },
  {
   "cell_type": "code",
   "execution_count": 9,
   "metadata": {},
   "outputs": [],
   "source": [
    "# models\n",
    "def load_base_models() -> list:\n",
    "    models = []\n",
    "    models.append(('LR', LogisticRegression(n_jobs=-1)))\n",
    "    models.append(('KNN', KNeighborsClassifier(n_jobs=-1)))\n",
    "    models.append(('SVM', SVC()))\n",
    "    models.append(('CART', DecisionTreeClassifier()))\n",
    "    models.append(('ET', ExtraTreesClassifier(n_jobs=-1)))\n",
    "    models.append(('RF', RandomForestClassifier(n_jobs=-1)))\n",
    "    models.append(('GB', GradientBoostingClassifier()))\n",
    "    models.append(('LGBM', LGBMClassifier(verbose=-1, n_jobs=-1)))\n",
    "    models.append(('XGB', XGBClassifier(n_jobs=-1)))\n",
    "\n",
    "    return models "
   ]
  },
  {
   "cell_type": "code",
   "execution_count": 10,
   "metadata": {},
   "outputs": [],
   "source": [
    "# resamplers\n",
    "def load_resamplers() -> list:\n",
    "    resamplers = []\n",
    "    resamplers.append(('ROS', RandomOverSampler(sampling_strategy='minority')))\n",
    "    resamplers.append(('SMOTE', SMOTE(sampling_strategy='minority')))\n",
    "    resamplers.append(('ROUS', Pipeline(steps=[('ROS', RandomOverSampler(sampling_strategy=0.3)), ('RUS', RandomUnderSampler(sampling_strategy=0.5))])))\n",
    "    resamplers.append(('SMOTEENN', SMOTEENN(enn=EditedNearestNeighbours(sampling_strategy='majority'))))\n",
    "    resamplers.append(('SMOTETomek', SMOTETomek(tomek=TomekLinks(sampling_strategy='majority'))))\n",
    "\n",
    "    return resamplers"
   ]
  },
  {
   "cell_type": "code",
   "execution_count": 11,
   "metadata": {},
   "outputs": [],
   "source": [
    "# kflold results\n",
    "def get_kfold_results(models: list, X: np.ndarray, y: np.ndarray) -> dict:\n",
    "    ##\n",
    "    kfold_results = dict()\n",
    "    cv = RepeatedStratifiedKFold(\n",
    "        n_splits=10, n_repeats=3, \n",
    "        random_state=7\n",
    "    )\n",
    "    scoring = make_scorer(fbeta_score, beta=2)\n",
    "\n",
    "    ##\n",
    "    for name, model in models:\n",
    "        cv_results = cross_val_score(\n",
    "            estimator=model, \n",
    "            X=X, y=y, \n",
    "            cv=cv, scoring=scoring\n",
    "        )\n",
    "\n",
    "        print(f'{name}: {cv_results.mean()} ({cv_results.std()})')\n",
    "        kfold_results[name] = cv_results\n",
    "\n",
    "    return kfold_results"
   ]
  },
  {
   "cell_type": "code",
   "execution_count": 12,
   "metadata": {},
   "outputs": [],
   "source": [
    "# selected models\n",
    "def get_selected_base_models(names_to_choose: list) -> list:\n",
    "    models = load_base_models()\n",
    "    selected_models = [(name, model) for name, model in models if name in names_to_choose]\n",
    "\n",
    "    return selected_models"
   ]
  },
  {
   "cell_type": "code",
   "execution_count": 13,
   "metadata": {},
   "outputs": [],
   "source": [
    "# kfold visualization\n",
    "def plot_kfold_results(kfold_results: dict):\n",
    "    ##\n",
    "    data_to_plot = pd.DataFrame(kfold_results)\n",
    "\n",
    "    ##\n",
    "    new_idxes = data_to_plot.mean(axis=0)\\\n",
    "        .sort_values(ascending=False)\\\n",
    "            .index.tolist()\n",
    "    data_to_plot = data_to_plot.reindex(\n",
    "        labels=new_idxes, \n",
    "        axis=1\n",
    "    )\n",
    "\n",
    "    ##\n",
    "    g = sns.boxplot(\n",
    "        data_to_plot, \n",
    "        fill=False, \n",
    "        showmeans=True\n",
    "    )\n",
    "    for i in range(3):\n",
    "        g.get_xticklabels()[i].set_fontweight('bold')\n",
    "        g.get_xticklabels()[i].set_color('r')"
   ]
  },
  {
   "cell_type": "code",
   "execution_count": 14,
   "metadata": {},
   "outputs": [],
   "source": [
    "# dump models\n",
    "def dump_model(model, path):\n",
    "    with open(path, 'wb') as output:\n",
    "        pickle.dump(\n",
    "            obj=model, file=output\n",
    "        )"
   ]
  },
  {
   "cell_type": "markdown",
   "metadata": {},
   "source": [
    "<b>User-Defined Classes</b>"
   ]
  },
  {
   "cell_type": "code",
   "execution_count": 15,
   "metadata": {},
   "outputs": [],
   "source": [
    "# class SFS Base\n",
    "class BaseUserDefinedTransformer(BaseEstimator, TransformerMixin):\n",
    "    ## \n",
    "    def __init__(self, \n",
    "                 ohe=None, other_encoders=None,\n",
    "                 scaling: list=[], factor_analysis: list=[]) -> None:\n",
    "        ###\n",
    "        self.scaling, self.factor_analysis = scaling, factor_analysis\n",
    "        ### \n",
    "        self.ohe, self.other_encoders = ohe, other_encoders\n",
    "\n",
    "\n",
    "    ##\n",
    "    def _check_ndim(self, X: np.ndarray) -> tuple[np.ndarray, int]:\n",
    "        ###\n",
    "        if X.ndim == 2:\n",
    "            X_ = X\n",
    "            num_iters = X.shape[1]\n",
    "        else:\n",
    "            X_ = X.reshape(-1, 1)\n",
    "            num_iters = 1\n",
    "\n",
    "        return X_, num_iters\n",
    "    \n",
    "    ##\n",
    "    def _category_detection(self, X: np.ndarray) -> tuple[list, list, np.ndarray]:\n",
    "        ###\n",
    "        num_idxes, cat_idxes = [], []\n",
    "\n",
    "        ### check dimension\n",
    "        X_, num_iters = self._check_ndim(X=X)\n",
    "\n",
    "        ###\n",
    "        for i in range(num_iters):\n",
    "            try:\n",
    "                X_[:1, i].astype(float)\n",
    "                num_idxes.append(i)\n",
    "            except:\n",
    "                cat_idxes.append(i)\n",
    "        \n",
    "        return num_idxes, cat_idxes, X_\n",
    "    \n",
    "    ##\n",
    "    def _get_transformers(self, cat_idxes: list=[], num_idxes: list=[]) -> list:\n",
    "        if len(num_idxes) == 0:\n",
    "            transformers = self.cat_pro\n",
    "        elif len(cat_idxes) == 0:\n",
    "            transformers = self.num_pro\n",
    "        else:\n",
    "            transformers = self.num_pro + self.cat_pro\n",
    "\n",
    "        return transformers \n",
    "    \n",
    "    ## \n",
    "    def fit(self, X: np.ndarray, y=None):\n",
    "        ###\n",
    "        transformers = self._get_transformers(self.cat_idxes, self.num_idxes)\n",
    "        self.ct = ColumnTransformer(transformers, remainder='passthrough')\n",
    "        self.ct.fit(self.X_fit_)\n",
    "\n",
    "        return self\n",
    "    \n",
    "    ##\n",
    "    def transform(self, X: np.ndarray, y=None):\n",
    "        X_, _ = self._check_ndim(X=X)\n",
    "\n",
    "        return self.ct.transform(X=X_)"
   ]
  },
  {
   "cell_type": "code",
   "execution_count": 16,
   "metadata": {},
   "outputs": [],
   "source": [
    "# Onehot_Scaling_Pca\n",
    "class SFS_OSP(BaseUserDefinedTransformer):\n",
    "    def fit(self, X: np.ndarray, y=None):\n",
    "        ###\n",
    "        self.num_idxes, self.cat_idxes, self.X_fit_ = self._category_detection(X)\n",
    "\n",
    "        ###\n",
    "        steps = self.scaling + self.factor_analysis\n",
    "        self.num_pro = [('num_pro', Pipeline(steps), self.num_idxes)]\n",
    "\n",
    "        self.cat_pro = [('cat_pro', self.ohe, self.cat_idxes)]\n",
    "\n",
    "        ###\n",
    "        super().fit(X=X)\n",
    "        \n",
    "        return self"
   ]
  },
  {
   "cell_type": "markdown",
   "metadata": {},
   "source": [
    "# 1. Baseline Evaluation"
   ]
  },
  {
   "cell_type": "code",
   "execution_count": 21,
   "metadata": {},
   "outputs": [
    {
     "name": "stdout",
     "output_type": "stream",
     "text": [
      "LR: 0.13228050685782308 (0.0541376961381269)\n",
      "KNN: 0.3590482148333225 (0.08163408925075537)\n",
      "SVM: 0.0 (0.0)\n",
      "CART: 0.7251733262700119 (0.05919356179465921)\n",
      "ET: 0.5006997964528093 (0.07899622854148063)\n",
      "RF: 0.6668687236299438 (0.0920386680083268)\n",
      "GB: 0.763119374378915 (0.05614856452888277)\n",
      "LGBM: 0.7904782196037831 (0.052733861062937704)\n",
      "XGB: 0.7788322510027165 (0.056953790262783334)\n"
     ]
    }
   ],
   "source": [
    "## filter out warning\n",
    "from warnings import simplefilter\n",
    "simplefilter(action='ignore')\n",
    "\n",
    "# base models\n",
    "base_models = load_base_models()\n",
    "\n",
    "## encoding\n",
    "encoding = [('ohe', OneHotEncoder(drop='first', sparse_output=False), cat_idxes)]\n",
    "\n",
    "## pipelines\n",
    "pipelines = []\n",
    "for name, model in base_models:\n",
    "    steps = [('transformers', ColumnTransformer(encoding, remainder='passthrough')), \n",
    "             (name, model)]\n",
    "    pipelines.append(\n",
    "        (name, Pipeline(steps))\n",
    "    )\n",
    "\n",
    "## kfold results\n",
    "kfold_results = get_kfold_results(\n",
    "    models=pipelines, \n",
    "    X=X_train, y=y_train\n",
    ")"
   ]
  },
  {
   "cell_type": "code",
   "execution_count": 22,
   "metadata": {},
   "outputs": [
    {
     "data": {
      "image/png": "[encoded data removed]",
      "text/plain": [
       "<Figure size 1000x600 with 1 Axes>"
      ]
     },
     "metadata": {},
     "output_type": "display_data"
    }
   ],
   "source": [
    "# visualizations\n",
    "plot_kfold_results(\n",
    "    kfold_results=kfold_results\n",
    ")"
   ]
  },
  {
   "cell_type": "code",
   "execution_count": 23,
   "metadata": {},
   "outputs": [],
   "source": [
    "# \n",
    "## filter out warning\n",
    "from warnings import simplefilter\n",
    "simplefilter(action='ignore')\n",
    "\n",
    "## base model\n",
    "models = load_base_models()\n",
    "\n",
    "## encoding\n",
    "ohe = [('ohe', OneHotEncoder(drop='first', sparse_output=False), cat_idxes)]\n",
    "\n",
    "## mlflow\n",
    "for name, pipeline in pipelines:\n",
    "    ###\n",
    "    pipeline.fit(X_train, y_train)\n",
    "\n",
    "    ###\n",
    "    val_predictions = pipeline.predict(X_test)\n",
    "    val_fbeta = fbeta_score(\n",
    "        y_true=y_test, y_pred=val_predictions, \n",
    "        beta=2\n",
    "    )\n",
    "\n",
    "    ### mlflow\n",
    "    with mlflow.start_run():\n",
    "        ####\n",
    "        mlflow.set_tags(\n",
    "            {\n",
    "                'pre_pro': 'ohe', \n",
    "                'base_model': name,\n",
    "                'beta_f': 2\n",
    "            }\n",
    "        )\n",
    "\n",
    "        ####\n",
    "        mlflow.log_metrics(\n",
    "            {\n",
    "                'avg_fbeta': kfold_results[name].mean(), \n",
    "                'val_fbeta': val_fbeta\n",
    "            }\n",
    "        )\n",
    "\n",
    "        ####\n",
    "        mlflow.sklearn.log_model(\n",
    "            sk_model=pipeline, \n",
    "            artifact_path='model'\n",
    "        )"
   ]
  },
  {
   "cell_type": "markdown",
   "metadata": {},
   "source": [
    "# 2. Encoding && Scaling"
   ]
  },
  {
   "cell_type": "markdown",
   "metadata": {},
   "source": [
    "<b>OneHot && Standardization</b>"
   ]
  },
  {
   "cell_type": "code",
   "execution_count": 17,
   "metadata": {},
   "outputs": [],
   "source": [
    "# artifacts' path\n",
    "artifacts_path = dict()\n",
    "artifacts_path['feature_selector'] = '../../../storage/.notebook/ohe_std.pkl'\n",
    "artifacts_path['model'] = '../../../storage/temp/model.pkl'"
   ]
  },
  {
   "cell_type": "code",
   "execution_count": 28,
   "metadata": {},
   "outputs": [
    {
     "name": "stderr",
     "output_type": "stream",
     "text": [
      "\n",
      "[2024-08-07 10:46:13] Features: 1/19 -- score: 0.2381489118845433\n",
      "[2024-08-07 10:46:16] Features: 2/19 -- score: 0.42408191254368577\n",
      "[2024-08-07 10:46:35] Features: 3/19 -- score: 0.5754211684925191\n",
      "[2024-08-07 10:46:54] Features: 4/19 -- score: 0.6225729598342019\n",
      "[2024-08-07 10:47:12] Features: 5/19 -- score: 0.6584611009627147\n",
      "[2024-08-07 10:47:37] Features: 6/19 -- score: 0.66052986385995\n",
      "[2024-08-07 10:48:01] Features: 7/19 -- score: 0.6617499533205715\n",
      "[2024-08-07 10:48:18] Features: 8/19 -- score: 0.6601361994499585\n",
      "[2024-08-07 10:48:36] Features: 9/19 -- score: 0.7311445443588926\n",
      "[2024-08-07 10:48:53] Features: 10/19 -- score: 0.7990904116019475\n",
      "[2024-08-07 10:49:08] Features: 11/19 -- score: 0.8020770922467613\n",
      "[2024-08-07 10:49:39] Features: 12/19 -- score: 0.8020770922467613\n",
      "[2024-08-07 10:49:40] Features: 13/19 -- score: 0.8005928428259913\n",
      "[2024-08-07 10:49:55] Features: 14/19 -- score: 0.8008545466925517\n",
      "[2024-08-07 10:50:09] Features: 15/19 -- score: 0.8014141696172937\n",
      "[2024-08-07 10:50:18] Features: 16/19 -- score: 0.7947300380225462\n",
      "[2024-08-07 10:50:26] Features: 17/19 -- score: 0.7955928909863051\n",
      "[2024-08-07 10:50:31] Features: 18/19 -- score: 0.795227678852249\n",
      "[2024-08-07 10:50:33] Features: 19/19 -- score: 0.7866142783049318"
     ]
    }
   ],
   "source": [
    "## warnings\n",
    "from warnings import simplefilter\n",
    "simplefilter(action='ignore')\n",
    "\n",
    "## transformers: standardize\n",
    "transformers = SFS_OSP(\n",
    "    ohe=OneHotEncoder(drop='first', sparse_output=False), \n",
    "    scaling=[('scaling', StandardScaler())]\n",
    ")\n",
    "## base model\n",
    "base_model = get_selected_base_models(\n",
    "    names_to_choose=['LGBM']\n",
    ")\n",
    "\n",
    "## pipeline\n",
    "pipeline = Pipeline(\n",
    "    steps=[('transformers', transformers)] + base_model\n",
    ")\n",
    "\n",
    "## sfs: forward\n",
    "sfs = SequentialFeatureSelector(\n",
    "    estimator=pipeline, \n",
    "    k_features='best', forward=True, \n",
    "    cv=RepeatedStratifiedKFold(n_splits=10, n_repeats=3, random_state=7),\n",
    "    scoring=make_scorer(fbeta_score, beta=2), \n",
    "    verbose=2\n",
    ")\n",
    "sfs.fit(X_train, y_train)\n",
    "dump_model(\n",
    "    model=sfs, \n",
    "    path=artifacts_path['feature_selector']\n",
    ")\n",
    "\n",
    "## save\n",
    "pipeline.fit(sfs.transform(X_train), y_train)\n",
    "dump_model(\n",
    "    model=pipeline, \n",
    "    path=artifacts_path['model']\n",
    ")"
   ]
  },
  {
   "cell_type": "code",
   "execution_count": 34,
   "metadata": {},
   "outputs": [
    {
     "name": "stderr",
     "output_type": "stream",
     "text": [
      "Downloading artifacts: 100%|██████████| 1/1 [00:00<00:00, 1392.07it/s]\n",
      "Downloading artifacts: 100%|██████████| 1/1 [00:00<00:00, 1392.07it/s]\n",
      "Downloading artifacts: 100%|██████████| 1/1 [00:00<00:00, 898.14it/s] \n",
      "2024/08/07 11:01:32 WARNING mlflow.utils.requirements_utils: Encountered an unexpected error (AttributeError(\"module 'pickle' has no attribute '__version__'\")) while detecting model dependency mismatches. Set logging level to DEBUG to see the full traceback.\n"
     ]
    }
   ],
   "source": [
    "# model logging\n",
    "##\n",
    "val_predictions = pipeline.predict(sfs.transform(X_test))\n",
    "val_fbeta = fbeta_score(\n",
    "    y_true=y_test, y_pred=val_predictions, \n",
    "    beta=2\n",
    ")\n",
    "\n",
    "## mlflow\n",
    "with mlflow.start_run():\n",
    "    ###\n",
    "    mlflow.set_tags(\n",
    "        {\n",
    "            'pre_pro': 'ohe_std', \n",
    "            'base_model': 'LGBM', \n",
    "            'feature_selection': 'true', \n",
    "            'beta_f': 2\n",
    "        }\n",
    "    )\n",
    "\n",
    "    ###\n",
    "    mlflow.log_metrics(\n",
    "        {\n",
    "            'avg_fbeta': sfs.k_score_, \n",
    "            'val_fbeta': val_fbeta\n",
    "        }\n",
    "    )\n",
    "\n",
    "    ###\n",
    "    mlflow.pyfunc.log_model(\n",
    "        artifact_path='model', \n",
    "        python_model=MLflowModel(), \n",
    "        artifacts=artifacts_path, \n",
    "        signature=infer_signature(X_train), \n",
    "        pip_requirements=['mlxtend==0.23.1', 'lightgbm==4.5.0', 'scikit-learn==1.5.1', 'pickle==4.0']\n",
    "    )"
   ]
  },
  {
   "cell_type": "markdown",
   "metadata": {},
   "source": [
    "<b>OneHot && PowerTransformation</b>"
   ]
  },
  {
   "cell_type": "code",
   "execution_count": 19,
   "metadata": {},
   "outputs": [],
   "source": [
    "# artifacts's path\n",
    "artifacts_path['feature_selector'] = '../../../storage/.notebook/ohe_yeojohnson.pkl'\n",
    "artifacts_path['model'] = '../../../storage/temp/model.pkl'"
   ]
  },
  {
   "cell_type": "code",
   "execution_count": 20,
   "metadata": {},
   "outputs": [
    {
     "name": "stderr",
     "output_type": "stream",
     "text": [
      "\n",
      "[2024-08-07 15:50:12] Features: 1/19 -- score: 0.23735039060793678\n",
      "[2024-08-07 15:50:35] Features: 2/19 -- score: 0.42582041867224146\n",
      "[2024-08-07 15:51:01] Features: 3/19 -- score: 0.5774183734798274\n",
      "[2024-08-07 15:51:40] Features: 4/19 -- score: 0.6238530809892006\n",
      "[2024-08-07 15:52:17] Features: 5/19 -- score: 0.6581735954421309\n",
      "[2024-08-07 15:52:48] Features: 6/19 -- score: 0.6586658214158743\n",
      "[2024-08-07 15:53:17] Features: 7/19 -- score: 0.7236601632131298\n",
      "[2024-08-07 15:53:41] Features: 8/19 -- score: 0.8006204713894784\n",
      "[2024-08-07 15:54:04] Features: 9/19 -- score: 0.8043225746011307\n",
      "[2024-08-07 15:54:26] Features: 10/19 -- score: 0.8054731887556635\n",
      "[2024-08-07 15:54:47] Features: 11/19 -- score: 0.8090817933195367\n",
      "[2024-08-07 15:55:06] Features: 12/19 -- score: 0.8090817933195367\n",
      "[2024-08-07 15:55:24] Features: 13/19 -- score: 0.8045225948431872\n",
      "[2024-08-07 15:55:43] Features: 14/19 -- score: 0.8039057746144053\n",
      "[2024-08-07 15:55:59] Features: 15/19 -- score: 0.8016731581905101\n",
      "[2024-08-07 15:56:13] Features: 16/19 -- score: 0.7950423137481899\n",
      "[2024-08-07 15:56:21] Features: 17/19 -- score: 0.7985077297135579\n",
      "[2024-08-07 15:56:45] Features: 18/19 -- score: 0.7957453836702186\n",
      "[2024-08-07 15:56:32] Features: 19/19 -- score: 0.7891296416032045"
     ]
    }
   ],
   "source": [
    "#\n",
    "## warnings\n",
    "from warnings import simplefilter\n",
    "simplefilter(action='ignore')\n",
    "\n",
    "## transformers\n",
    "transformers = SFS_OSP(\n",
    "    ohe=OneHotEncoder(drop='first', sparse_output=False), \n",
    "    scaling=[('scaling', PowerTransformer(method='yeo-johnson', standardize=True))]\n",
    ")\n",
    "\n",
    "## base model\n",
    "base_model = get_selected_base_models(\n",
    "    names_to_choose=['LGBM']\n",
    ")\n",
    "\n",
    "## pipeline\n",
    "pipeline = Pipeline(\n",
    "    steps=[('transformers', transformers)] + base_model\n",
    ")\n",
    "\n",
    "## sfs: forward\n",
    "sfs = SequentialFeatureSelector(\n",
    "    estimator=pipeline, \n",
    "    k_features='best', forward=True, \n",
    "    cv=RepeatedStratifiedKFold(n_splits=10, n_repeats=3, random_state=7),\n",
    "    scoring=make_scorer(fbeta_score, beta=2), \n",
    "    verbose=2\n",
    ")\n",
    "sfs.fit(X_train, y_train)\n",
    "dump_model(\n",
    "    model=sfs, \n",
    "    path=artifacts_path['feature_selector']\n",
    ")\n",
    "\n",
    "## save\n",
    "pipeline.fit(sfs.transform(X_train), y_train)\n",
    "dump_model(\n",
    "    model=pipeline, \n",
    "    path=artifacts_path['model']\n",
    ")"
   ]
  },
  {
   "cell_type": "code",
   "execution_count": 21,
   "metadata": {},
   "outputs": [
    {
     "name": "stderr",
     "output_type": "stream",
     "text": [
      "Downloading artifacts: 100%|██████████| 1/1 [00:00<00:00, 1053.32it/s] \n",
      "Downloading artifacts: 100%|██████████| 1/1 [00:00<00:00, 1053.32it/s] \n",
      "Downloading artifacts: 100%|██████████| 1/1 [00:00<00:00, 1741.82it/s]\n",
      "2024/08/07 15:58:24 WARNING mlflow.utils.requirements_utils: Encountered an unexpected error (AttributeError(\"module 'pickle' has no attribute '__version__'\")) while detecting model dependency mismatches. Set logging level to DEBUG to see the full traceback.\n"
     ]
    }
   ],
   "source": [
    "# mlflow\n",
    "##\n",
    "val_predictions = pipeline.predict(sfs.transform(X_test))\n",
    "val_fbeta = fbeta_score(\n",
    "    y_true=y_test, y_pred=val_predictions, \n",
    "    beta=2\n",
    ")\n",
    "\n",
    "##\n",
    "with mlflow.start_run():\n",
    "    ###\n",
    "    mlflow.set_tags(\n",
    "        {\n",
    "            'pre_pro': 'ohe_yeojohnson', \n",
    "            'base_model': 'LGBM', \n",
    "            'feature_selection': 'true', \n",
    "            'beta_f': 2\n",
    "        }\n",
    "    )\n",
    "\n",
    "    ###\n",
    "    mlflow.log_metrics(\n",
    "        {\n",
    "            'avg_fbeta': sfs.k_score_, \n",
    "            'val_fbeta': val_fbeta\n",
    "        }\n",
    "    )\n",
    "\n",
    "    ###\n",
    "    mlflow.pyfunc.log_model(\n",
    "        artifact_path='model', \n",
    "        python_model=MLflowModel(), \n",
    "        artifacts=artifacts_path, \n",
    "        signature=infer_signature(X_train), \n",
    "        pip_requirements=['mlxtend==0.23.1', 'lightgbm==4.5.0', 'scikit-learn==1.5.1', 'pickle==4.0']\n",
    "    )"
   ]
  },
  {
   "cell_type": "markdown",
   "metadata": {},
   "source": [
    "<b>OneHot && QuantileTransformatin</b>"
   ]
  },
  {
   "cell_type": "code",
   "execution_count": 22,
   "metadata": {},
   "outputs": [],
   "source": [
    "# artifacts' path \n",
    "artifacts_path['feature_selector'] = '../../../storage/.notebook/ohe_quantile.pkl'\n",
    "artifacts_path['model'] = '../../../storage/temp/model.pkl'"
   ]
  },
  {
   "cell_type": "code",
   "execution_count": 23,
   "metadata": {},
   "outputs": [
    {
     "name": "stderr",
     "output_type": "stream",
     "text": [
      "\n",
      "[2024-08-07 15:59:57] Features: 1/19 -- score: 0.23645564657585305\n",
      "[2024-08-07 16:00:29] Features: 2/19 -- score: 0.4220726154953954\n",
      "[2024-08-07 16:01:05] Features: 3/19 -- score: 0.5765331982466577\n",
      "[2024-08-07 16:01:46] Features: 4/19 -- score: 0.623949584845233\n",
      "[2024-08-07 16:02:38] Features: 5/19 -- score: 0.6516358179604785\n",
      "[2024-08-07 16:03:24] Features: 6/19 -- score: 0.6626550158392714\n",
      "[2024-08-07 16:04:06] Features: 7/19 -- score: 0.7365166966759648\n",
      "[2024-08-07 16:04:53] Features: 8/19 -- score: 0.7948174207609834\n",
      "[2024-08-07 16:05:38] Features: 9/19 -- score: 0.804334197354321\n",
      "[2024-08-07 16:06:21] Features: 10/19 -- score: 0.804334197354321\n",
      "[2024-08-07 16:07:11] Features: 11/19 -- score: 0.8043036212839862\n",
      "[2024-08-07 16:07:58] Features: 12/19 -- score: 0.80524396203364\n",
      "[2024-08-07 16:08:34] Features: 13/19 -- score: 0.8029602268374475\n",
      "[2024-08-07 16:09:06] Features: 14/19 -- score: 0.8045730508613071\n",
      "[2024-08-07 16:09:40] Features: 15/19 -- score: 0.8056417463137108\n",
      "[2024-08-07 16:10:07] Features: 16/19 -- score: 0.7944077871772399\n",
      "[2024-08-07 16:10:26] Features: 17/19 -- score: 0.7960812243354946\n",
      "[2024-08-07 16:10:43] Features: 18/19 -- score: 0.7979990711844432\n",
      "[2024-08-07 16:10:50] Features: 19/19 -- score: 0.7899749325397661"
     ]
    }
   ],
   "source": [
    "#\n",
    "## warnings\n",
    "from warnings import simplefilter\n",
    "simplefilter(action='ignore')\n",
    "\n",
    "## transformers\n",
    "transformers = SFS_OSP(\n",
    "    ohe=OneHotEncoder(drop='first', sparse_output=False), \n",
    "    scaling=[('scaling', QuantileTransformer(output_distribution='normal'))]\n",
    ")\n",
    "\n",
    "## base model\n",
    "base_model = get_selected_base_models(\n",
    "    names_to_choose=['LGBM']\n",
    ")\n",
    "\n",
    "## pipeline\n",
    "pipeline = Pipeline(\n",
    "    steps=[('transformers', transformers)] + base_model\n",
    ")\n",
    "\n",
    "## sfs: forward\n",
    "sfs = SequentialFeatureSelector(\n",
    "    estimator=pipeline, \n",
    "    k_features='best', forward=True, \n",
    "    cv=RepeatedStratifiedKFold(n_splits=10, n_repeats=3, random_state=7), \n",
    "    scoring=make_scorer(fbeta_score, beta=2), \n",
    "    verbose=2\n",
    ")\n",
    "sfs.fit(X_train, y_train)\n",
    "dump_model(\n",
    "    model=sfs, \n",
    "    path=artifacts_path['feature_selector']\n",
    ")\n",
    "\n",
    "##\n",
    "pipeline.fit(sfs.transform(X_train), y_train)\n",
    "dump_model(\n",
    "    model=pipeline, \n",
    "    path=artifacts_path['model']\n",
    ")"
   ]
  },
  {
   "cell_type": "code",
   "execution_count": 24,
   "metadata": {},
   "outputs": [
    {
     "name": "stderr",
     "output_type": "stream",
     "text": [
      "Downloading artifacts: 100%|██████████| 1/1 [00:00<00:00, 1942.71it/s] \n",
      "Downloading artifacts: 100%|██████████| 1/1 [00:00<00:00, 1942.71it/s] \n",
      "Downloading artifacts: 100%|██████████| 1/1 [00:00<00:00, 1037.68it/s]\n",
      "2024/08/07 16:11:05 WARNING mlflow.utils.requirements_utils: Encountered an unexpected error (AttributeError(\"module 'pickle' has no attribute '__version__'\")) while detecting model dependency mismatches. Set logging level to DEBUG to see the full traceback.\n"
     ]
    }
   ],
   "source": [
    "# mlflow\n",
    "##\n",
    "val_predictions = pipeline.predict(sfs.transform(X_test))\n",
    "val_fbeta = fbeta_score(\n",
    "    y_true=y_test, y_pred=val_predictions, \n",
    "    beta=2\n",
    ")\n",
    "\n",
    "##\n",
    "with mlflow.start_run():\n",
    "    ###\n",
    "    mlflow.set_tags(\n",
    "        {\n",
    "            'pre_pro': 'ohe_quantile', \n",
    "            'base_model': 'LGBM', \n",
    "            'feature_selection': 'true', \n",
    "            'beta_f': 2\n",
    "        }\n",
    "    )\n",
    "\n",
    "    ###\n",
    "    mlflow.log_metrics(\n",
    "        {\n",
    "            'avg_fbeta': sfs.k_score_, \n",
    "            'val_fbeta': val_fbeta\n",
    "        }\n",
    "    )\n",
    "\n",
    "    ###\n",
    "    mlflow.pyfunc.log_model(\n",
    "        artifact_path='model', \n",
    "        python_model=MLflowModel(), \n",
    "        artifacts=artifacts_path, \n",
    "        signature=infer_signature(X_train), \n",
    "        pip_requirements=['mlxtend==0.23.1', 'lightgbm==4.5.0', 'scikit-learn==1.5.1', 'pickle==4.0']\n",
    "    )"
   ]
  },
  {
   "cell_type": "markdown",
   "metadata": {},
   "source": [
    "# 3. Encoding && Scaling && PCA"
   ]
  },
  {
   "cell_type": "markdown",
   "metadata": {},
   "source": [
    "<b>OneHot && QuantileTransform && PCA(90%)"
   ]
  },
  {
   "cell_type": "code",
   "execution_count": 26,
   "metadata": {},
   "outputs": [],
   "source": [
    "# artifacts' path\n",
    "artifacts_path['feature_selector'] = '../../../storage/.notebook/ohe_quantile_pca.pkl'\n",
    "artifacts_path['model'] = '../../../storage/temp/model.pkl'"
   ]
  },
  {
   "cell_type": "code",
   "execution_count": 27,
   "metadata": {},
   "outputs": [
    {
     "name": "stderr",
     "output_type": "stream",
     "text": [
      "\n",
      "[2024-08-07 16:16:03] Features: 1/19 -- score: 0.23651254705174793\n",
      "[2024-08-07 16:16:32] Features: 2/19 -- score: 0.40588183110059217\n",
      "[2024-08-07 16:17:22] Features: 3/19 -- score: 0.5457852406831913\n",
      "[2024-08-07 16:17:41] Features: 4/19 -- score: 0.6007576151755125\n",
      "[2024-08-07 16:18:17] Features: 5/19 -- score: 0.6201483829446932\n",
      "[2024-08-07 16:18:53] Features: 6/19 -- score: 0.648909468722092\n",
      "[2024-08-07 16:19:32] Features: 7/19 -- score: 0.6787024518104643\n",
      "[2024-08-07 16:20:12] Features: 8/19 -- score: 0.6831594533511679\n",
      "[2024-08-07 16:20:52] Features: 9/19 -- score: 0.7182931025993571\n",
      "[2024-08-07 16:21:31] Features: 10/19 -- score: 0.7180892090239053\n",
      "[2024-08-07 16:22:10] Features: 11/19 -- score: 0.7106651408595411\n",
      "[2024-08-07 16:22:45] Features: 12/19 -- score: 0.7145689716125239\n",
      "[2024-08-07 16:23:19] Features: 13/19 -- score: 0.7120427665208019\n",
      "[2024-08-07 16:23:50] Features: 14/19 -- score: 0.6374091794970835\n",
      "[2024-08-07 16:24:17] Features: 15/19 -- score: 0.6286493388232757\n",
      "[2024-08-07 16:24:40] Features: 16/19 -- score: 0.614964622114005\n",
      "[2024-08-07 16:25:04] Features: 17/19 -- score: 0.6012505716643151\n",
      "[2024-08-07 16:25:21] Features: 18/19 -- score: 0.585768855986563\n",
      "[2024-08-07 16:25:30] Features: 19/19 -- score: 0.579655502407915"
     ]
    }
   ],
   "source": [
    "#\n",
    "## warnings\n",
    "from warnings import simplefilter\n",
    "simplefilter(action='ignore')\n",
    "\n",
    "##\n",
    "transformers = SFS_OSP(\n",
    "    ohe=OneHotEncoder(drop='first', sparse_output=False), \n",
    "    scaling=[('scaling', QuantileTransformer())], factor_analysis=[('pca', PCA(n_components=0.9))]\n",
    ")\n",
    "\n",
    "##\n",
    "base_model = get_selected_base_models(\n",
    "    names_to_choose=['LGBM']\n",
    ")\n",
    "\n",
    "## \n",
    "pipeline = Pipeline(\n",
    "    steps=[('transformers', transformers)] + base_model\n",
    ")\n",
    "\n",
    "## sfs: forwanrd\n",
    "sfs = SequentialFeatureSelector(\n",
    "    estimator=pipeline, \n",
    "    k_features='best', forward=True, \n",
    "    cv=RepeatedStratifiedKFold(n_splits=10, n_repeats=3, random_state=7), \n",
    "    scoring=make_scorer(fbeta_score, beta=2), \n",
    "    verbose=2\n",
    ")\n",
    "sfs.fit(X_train, y_train)\n",
    "dump_model(\n",
    "    model=sfs, \n",
    "    path=artifacts_path['feature_selector']\n",
    ")\n",
    "\n",
    "##\n",
    "pipeline.fit(sfs.transform(X_train), y_train)\n",
    "dump_model(\n",
    "    model=pipeline, \n",
    "    path=artifacts_path['model']\n",
    ")"
   ]
  },
  {
   "cell_type": "code",
   "execution_count": 28,
   "metadata": {},
   "outputs": [
    {
     "name": "stderr",
     "output_type": "stream",
     "text": [
      "Downloading artifacts: 100%|██████████| 1/1 [00:00<00:00, 1946.31it/s] \n",
      "Downloading artifacts: 100%|██████████| 1/1 [00:00<00:00, 1946.31it/s] \n",
      "Downloading artifacts: 100%|██████████| 1/1 [00:00<00:00, 1109.02it/s]\n",
      "2024/08/07 16:26:37 WARNING mlflow.utils.requirements_utils: Encountered an unexpected error (AttributeError(\"module 'pickle' has no attribute '__version__'\")) while detecting model dependency mismatches. Set logging level to DEBUG to see the full traceback.\n"
     ]
    }
   ],
   "source": [
    "# mlflow\n",
    "##\n",
    "val_predictions = pipeline.predict(sfs.transform(X_test))\n",
    "val_fbeta = fbeta_score(\n",
    "    y_true=y_test, y_pred=val_predictions, \n",
    "    beta=2\n",
    ")\n",
    "\n",
    "##\n",
    "with mlflow.start_run():\n",
    "    ##\n",
    "    mlflow.set_tags(\n",
    "        {\n",
    "            'pre_pro': 'ohe_quantile_pca(0.9)', \n",
    "            'base_model': 'LGBM', \n",
    "            'feature_selection': 'true', \n",
    "            'beta_f': 2\n",
    "        }\n",
    "    )\n",
    "\n",
    "    ##\n",
    "    mlflow.log_metrics(\n",
    "        {\n",
    "            'avg_fbeta': sfs.k_score_, \n",
    "            'val_fbeta': val_fbeta\n",
    "        }\n",
    "    )\n",
    "\n",
    "    ##\n",
    "    mlflow.pyfunc.log_model(\n",
    "        artifact_path='model', \n",
    "        python_model=MLflowModel(), \n",
    "        artifacts=artifacts_path, \n",
    "        signature=infer_signature(X_train), \n",
    "        pip_requirements=['mlxtend==0.23.1', 'lightgbm==4.5.0', 'scikit-learn==1.5.1', 'pickle==4.0']\n",
    "    )"
   ]
  },
  {
   "cell_type": "markdown",
   "metadata": {},
   "source": [
    "# 4. Encoding && Scaling && Resampling"
   ]
  },
  {
   "cell_type": "markdown",
   "metadata": {},
   "source": [
    "<b>OneHot && QuantileTrasnform && Resamlings</b>"
   ]
  },
  {
   "cell_type": "code",
   "execution_count": 44,
   "metadata": {},
   "outputs": [
    {
     "name": "stdout",
     "output_type": "stream",
     "text": [
      "ROS: 0.8110558211589489 (0.051998168506957466)\n",
      "SMOTE: 0.8212466511692839 (0.05203477437418857)\n",
      "ROUS: 0.8197750978570648 (0.05605440046029323)\n",
      "SMOTEENN: 0.8175309693767779 (0.05608706199768375)\n",
      "SMOTETomek: 0.8152062011622568 (0.05628386902593904)\n"
     ]
    }
   ],
   "source": [
    "## wanrnings\n",
    "from warnings import simplefilter\n",
    "simplefilter(action='ignore')\n",
    "\n",
    "## resamplers\n",
    "resamplers = load_resamplers()\n",
    "results = dict()\n",
    "\n",
    "##\n",
    "for name, resampler in resamplers:\n",
    "    ### artifacts' path\n",
    "    artifacts_path['feature_selector'] = '../../../storage/.notebook/ohe_quantile.pkl'\n",
    "    artifacts_path['model'] = '../../../storage/temp/model.pkl'\n",
    "\n",
    "    ### sfs\n",
    "    sfs = joblib.load(\n",
    "        filename=artifacts_path['feature_selector']\n",
    "    )\n",
    "    selected_X_train = sfs.transform(X_train)\n",
    "\n",
    "    ### transformer\n",
    "    transformers = SFS_OSP(\n",
    "        ohe=OneHotEncoder(drop='first', sparse_output=False), \n",
    "        scaling=[('scaling', QuantileTransformer(output_distribution='normal'))]\n",
    "    )\n",
    "\n",
    "    ### base model\n",
    "    base_model = get_selected_base_models(\n",
    "        names_to_choose=['LGBM']\n",
    "    )\n",
    "\n",
    "    ### pipeline\n",
    "    pipline = Pipeline(\n",
    "        steps=[('transformers', transformers), (name, resampler)] + base_model\n",
    "    )\n",
    "\n",
    "    ### kfold result\n",
    "    kfold_result = cross_val_score(\n",
    "        estimator=pipeline, \n",
    "        X=selected_X_train, y=y_train, \n",
    "        cv=RepeatedStratifiedKFold(n_splits=10, n_repeats=3, random_state=7),\n",
    "        scoring=make_scorer(fbeta_score, beta=2)\n",
    "    )\n",
    "    print(f'{name}: {kfold_result.mean()} ({kfold_result.std()})')\n",
    "    results[name] = kfold_result\n",
    "    \n",
    "    ### fitted pipeline\n",
    "    pipeline = pipeline.fit(selected_X_train, y_train)\n",
    "    dump_model(\n",
    "        model=pipeline, \n",
    "        path=artifacts_path['model']\n",
    "    )\n",
    "\n",
    "    ### make predictions on unseen data\n",
    "    val_predictions = pipeline.predict(sfs.transform(X_test))\n",
    "    val_fbeta = fbeta_score(\n",
    "        y_true=y_test, y_pred=val_predictions, \n",
    "        beta=2\n",
    "    )\n",
    "\n",
    "    ### mlflow\n",
    "    with mlflow.start_run():\n",
    "        #### tags \n",
    "        mlflow.set_tags(\n",
    "            {\n",
    "                'pre_pro': f'ohe_quantile_{name.lower()}', \n",
    "                'base_model': 'LGBM', \n",
    "                'feature_selection': 'true', \n",
    "                'beta_f': 2\n",
    "            }\n",
    "        )\n",
    "\n",
    "        #### metrics\n",
    "        mlflow.log_metrics(\n",
    "            {\n",
    "                'avg_fbeta': kfold_result.mean(),\n",
    "                'val_fbeta': val_fbeta\n",
    "            }\n",
    "        )\n",
    "\n",
    "        ####\n",
    "        mlflow.pyfunc.log_model(\n",
    "            artifact_path='model', \n",
    "            python_model=MLflowModel(), \n",
    "            artifacts=artifacts_path, \n",
    "            signature=infer_signature(X_train), \n",
    "            pip_requirements=['mlxtend==0.23.1', 'lightgbm==4.5.0', 'scikit-learn==1.5.1', 'pickle==4.0']\n",
    "        )"
   ]
  },
  {
   "cell_type": "code",
   "execution_count": 46,
   "metadata": {},
   "outputs": [
    {
     "data": {
      "image/png": "[encoded data removed]",
      "text/plain": [
       "<Figure size 1000x600 with 1 Axes>"
      ]
     },
     "metadata": {},
     "output_type": "display_data"
    }
   ],
   "source": [
    "# plotting kfold results\n",
    "plot_kfold_results(kfold_results=results)"
   ]
  },
  {
   "cell_type": "markdown",
   "metadata": {},
   "source": [
    "# 5. Finalize Model"
   ]
  },
  {
   "cell_type": "code",
   "execution_count": 16,
   "metadata": {},
   "outputs": [],
   "source": [
    "# load model\n",
    "run_id = mlflow.search_runs(\n",
    "    filter_string=\"metrics.avg_fbeta > 0.8\", \n",
    "    order_by=[\"metrics.agv_fbeta DESC\", \"metrics.val_fbeta DESC\"],\n",
    "    search_all_experiments=True\n",
    ")['run_id'][0]\n",
    "\n",
    "model = mlflow.pyfunc.load_model(\n",
    "    model_uri=f'runs:/{run_id}/model'\n",
    ")"
   ]
  },
  {
   "cell_type": "code",
   "execution_count": 52,
   "metadata": {},
   "outputs": [
    {
     "name": "stdout",
     "output_type": "stream",
     "text": [
      "              precision    recall  f1-score   support\n",
      "\n",
      "           0       0.97      0.99      0.98      1096\n",
      "           1       0.92      0.84      0.88       179\n",
      "\n",
      "    accuracy                           0.97      1275\n",
      "   macro avg       0.94      0.92      0.93      1275\n",
      "weighted avg       0.97      0.97      0.97      1275\n",
      "\n"
     ]
    },
    {
     "data": {
      "image/png": "[encoded data removed]",
      "text/plain": [
       "<Figure size 1000x600 with 1 Axes>"
      ]
     },
     "metadata": {},
     "output_type": "display_data"
    }
   ],
   "source": [
    "# make predictions on unseen data\n",
    "## classfication report\n",
    "predictions = model.predict(X_test)\n",
    "print(classification_report(\n",
    "    y_true=y_test, y_pred=predictions\n",
    "))\n",
    "\n",
    "## confusion matrix\n",
    "data = confusion_matrix(\n",
    "    y_true=y_test, y_pred=predictions\n",
    ")\n",
    "g = sns.heatmap(\n",
    "    data=data, \n",
    "    annot=True, fmt='.0f', \n",
    "    cmap='coolwarm', cbar=False, \n",
    "    square=False,\n",
    "    linewidths=1.5\n",
    ")\n",
    "g.set_yticklabels(\n",
    "    labels=['Not churned', 'Churned']\n",
    ")\n",
    "g.set_xticklabels(\n",
    "    labels=['Not churned', 'Churned']\n",
    ")\n",
    "g.xaxis.tick_top()\n",
    "g.set_title(\n",
    "    label='Confusion matrix', \n",
    "    fontdict=dict(\n",
    "        weight='bold', \n",
    "        size=15\n",
    "    )\n",
    ")\n",
    "plt.show()"
   ]
  }
 ],
 "metadata": {
  "kernelspec": {
   "display_name": "mlops_lab",
   "language": "python",
   "name": "python3"
  },
  "language_info": {
   "codemirror_mode": {
    "name": "ipython",
    "version": 3
   },
   "file_extension": ".py",
   "mimetype": "text/x-python",
   "name": "python",
   "nbconvert_exporter": "python",
   "pygments_lexer": "ipython3",
   "version": "3.11.9"
  }
 },
 "nbformat": 4,
 "nbformat_minor": 2
}
